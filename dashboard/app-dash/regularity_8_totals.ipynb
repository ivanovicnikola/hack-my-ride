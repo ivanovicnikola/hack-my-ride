{
 "cells": [
  {
   "cell_type": "code",
   "execution_count": 1,
   "metadata": {},
   "outputs": [],
   "source": [
    "import pandas as pd\n",
    "from datetime import date, datetime\n",
    "import matplotlib.pyplot as plt\n",
    "import matplotlib.dates as mdates\n",
    "import matplotlib.ticker as plticker\n",
    "import numpy as np"
   ]
  },
  {
   "cell_type": "code",
   "execution_count": 62,
   "metadata": {},
   "outputs": [],
   "source": [
    "data = pd.read_csv('regularity_8_totals.csv') "
   ]
  },
  {
   "cell_type": "code",
   "execution_count": 57,
   "metadata": {},
   "outputs": [
    {
     "data": {
      "text/plain": [
       "sum(actual_headway_seconds)           4\n",
       "sum(actual_headway_squared)           4\n",
       "sum(scheduled_headway_seconds)        4\n",
       "sum(scheduled_headway_squared)        4\n",
       "average(scheduled_headway_minutes)    4\n",
       "SWT                                   4\n",
       "AWT                                   4\n",
       "EWT                                   4\n",
       "Period                                4\n",
       "dtype: int64"
      ]
     },
     "execution_count": 57,
     "metadata": {},
     "output_type": "execute_result"
    }
   ],
   "source": [
    "data.count()"
   ]
  },
  {
   "cell_type": "code",
   "execution_count": 23,
   "metadata": {},
   "outputs": [],
   "source": [
    "data.columns = data.iloc[0]"
   ]
  },
  {
   "cell_type": "code",
   "execution_count": 30,
   "metadata": {},
   "outputs": [],
   "source": [
    "data.drop(data.index[0], inplace=True)"
   ]
  },
  {
   "cell_type": "code",
   "execution_count": 52,
   "metadata": {},
   "outputs": [
    {
     "data": {
      "text/html": [
       "<div>\n",
       "<style scoped>\n",
       "    .dataframe tbody tr th:only-of-type {\n",
       "        vertical-align: middle;\n",
       "    }\n",
       "\n",
       "    .dataframe tbody tr th {\n",
       "        vertical-align: top;\n",
       "    }\n",
       "\n",
       "    .dataframe thead th {\n",
       "        text-align: right;\n",
       "    }\n",
       "</style>\n",
       "<table border=\"1\" class=\"dataframe\">\n",
       "  <thead>\n",
       "    <tr style=\"text-align: right;\">\n",
       "      <th></th>\n",
       "      <th>sum(actual_headway_seconds)</th>\n",
       "      <th>sum(actual_headway_squared)</th>\n",
       "      <th>sum(scheduled_headway_seconds)</th>\n",
       "      <th>sum(scheduled_headway_squared)</th>\n",
       "      <th>average(scheduled_headway_minutes)</th>\n",
       "      <th>SWT</th>\n",
       "      <th>AWT</th>\n",
       "      <th>EWT</th>\n",
       "      <th>Period</th>\n",
       "    </tr>\n",
       "  </thead>\n",
       "  <tbody>\n",
       "    <tr>\n",
       "      <th>0</th>\n",
       "      <td>213026.0</td>\n",
       "      <td>95637576.0</td>\n",
       "      <td>210648.0</td>\n",
       "      <td>85031594.0</td>\n",
       "      <td>5.255689</td>\n",
       "      <td>201.833376</td>\n",
       "      <td>224.473952</td>\n",
       "      <td>22.640575</td>\n",
       "      <td>07:00-09:00</td>\n",
       "    </tr>\n",
       "    <tr>\n",
       "      <th>1</th>\n",
       "      <td>654956.0</td>\n",
       "      <td>342782966.0</td>\n",
       "      <td>656417.0</td>\n",
       "      <td>292353201.0</td>\n",
       "      <td>6.167014</td>\n",
       "      <td>222.688627</td>\n",
       "      <td>261.683965</td>\n",
       "      <td>38.995338</td>\n",
       "      <td>10:00-16:00</td>\n",
       "    </tr>\n",
       "    <tr>\n",
       "      <th>2</th>\n",
       "      <td>322806.0</td>\n",
       "      <td>130788618.0</td>\n",
       "      <td>323087.0</td>\n",
       "      <td>120794591.0</td>\n",
       "      <td>5.422743</td>\n",
       "      <td>186.938179</td>\n",
       "      <td>202.580835</td>\n",
       "      <td>15.642656</td>\n",
       "      <td>16:00-19:00</td>\n",
       "    </tr>\n",
       "    <tr>\n",
       "      <th>3</th>\n",
       "      <td>308954.0</td>\n",
       "      <td>299047734.0</td>\n",
       "      <td>303796.0</td>\n",
       "      <td>278714790.0</td>\n",
       "      <td>12.818397</td>\n",
       "      <td>458.720309</td>\n",
       "      <td>483.968057</td>\n",
       "      <td>25.247748</td>\n",
       "      <td>20:00-23:00</td>\n",
       "    </tr>\n",
       "  </tbody>\n",
       "</table>\n",
       "</div>"
      ],
      "text/plain": [
       "   sum(actual_headway_seconds)  sum(actual_headway_squared)  \\\n",
       "0                     213026.0                   95637576.0   \n",
       "1                     654956.0                  342782966.0   \n",
       "2                     322806.0                  130788618.0   \n",
       "3                     308954.0                  299047734.0   \n",
       "\n",
       "   sum(scheduled_headway_seconds)  sum(scheduled_headway_squared)  \\\n",
       "0                        210648.0                      85031594.0   \n",
       "1                        656417.0                     292353201.0   \n",
       "2                        323087.0                     120794591.0   \n",
       "3                        303796.0                     278714790.0   \n",
       "\n",
       "   average(scheduled_headway_minutes)         SWT         AWT        EWT  \\\n",
       "0                            5.255689  201.833376  224.473952  22.640575   \n",
       "1                            6.167014  222.688627  261.683965  38.995338   \n",
       "2                            5.422743  186.938179  202.580835  15.642656   \n",
       "3                           12.818397  458.720309  483.968057  25.247748   \n",
       "\n",
       "        Period  \n",
       "0  07:00-09:00  \n",
       "1  10:00-16:00  \n",
       "2  16:00-19:00  \n",
       "3  20:00-23:00  "
      ]
     },
     "execution_count": 52,
     "metadata": {},
     "output_type": "execute_result"
    }
   ],
   "source": [
    "data"
   ]
  },
  {
   "cell_type": "code",
   "execution_count": 44,
   "metadata": {},
   "outputs": [
    {
     "data": {
      "text/plain": [
       "Index(['Period', 'SWT', 'AWT', 'EWT'], dtype='object')"
      ]
     },
     "execution_count": 44,
     "metadata": {},
     "output_type": "execute_result"
    }
   ],
   "source": [
    "data.columns"
   ]
  },
  {
   "cell_type": "code",
   "execution_count": 58,
   "metadata": {},
   "outputs": [],
   "source": [
    "data = data[['Period', 'SWT','AWT', 'EWT']]"
   ]
  },
  {
   "cell_type": "code",
   "execution_count": 21,
   "metadata": {},
   "outputs": [],
   "source": [
    "data = data[['Period', 'SWT','AWT', 'EWT']].transpose()"
   ]
  },
  {
   "cell_type": "code",
   "execution_count": 59,
   "metadata": {},
   "outputs": [],
   "source": [
    "df_plot = pd.melt(data, id_vars=['Period'], value_vars=['SWT','AWT', 'EWT'])"
   ]
  },
  {
   "cell_type": "code",
   "execution_count": 60,
   "metadata": {},
   "outputs": [
    {
     "data": {
      "text/html": [
       "<div>\n",
       "<style scoped>\n",
       "    .dataframe tbody tr th:only-of-type {\n",
       "        vertical-align: middle;\n",
       "    }\n",
       "\n",
       "    .dataframe tbody tr th {\n",
       "        vertical-align: top;\n",
       "    }\n",
       "\n",
       "    .dataframe thead th {\n",
       "        text-align: right;\n",
       "    }\n",
       "</style>\n",
       "<table border=\"1\" class=\"dataframe\">\n",
       "  <thead>\n",
       "    <tr style=\"text-align: right;\">\n",
       "      <th></th>\n",
       "      <th>Period</th>\n",
       "      <th>variable</th>\n",
       "      <th>value</th>\n",
       "    </tr>\n",
       "  </thead>\n",
       "  <tbody>\n",
       "    <tr>\n",
       "      <th>0</th>\n",
       "      <td>07:00-09:00</td>\n",
       "      <td>SWT</td>\n",
       "      <td>201.833376</td>\n",
       "    </tr>\n",
       "    <tr>\n",
       "      <th>1</th>\n",
       "      <td>10:00-16:00</td>\n",
       "      <td>SWT</td>\n",
       "      <td>222.688627</td>\n",
       "    </tr>\n",
       "    <tr>\n",
       "      <th>2</th>\n",
       "      <td>16:00-19:00</td>\n",
       "      <td>SWT</td>\n",
       "      <td>186.938179</td>\n",
       "    </tr>\n",
       "    <tr>\n",
       "      <th>3</th>\n",
       "      <td>20:00-23:00</td>\n",
       "      <td>SWT</td>\n",
       "      <td>458.720309</td>\n",
       "    </tr>\n",
       "    <tr>\n",
       "      <th>4</th>\n",
       "      <td>07:00-09:00</td>\n",
       "      <td>AWT</td>\n",
       "      <td>224.473952</td>\n",
       "    </tr>\n",
       "    <tr>\n",
       "      <th>5</th>\n",
       "      <td>10:00-16:00</td>\n",
       "      <td>AWT</td>\n",
       "      <td>261.683965</td>\n",
       "    </tr>\n",
       "    <tr>\n",
       "      <th>6</th>\n",
       "      <td>16:00-19:00</td>\n",
       "      <td>AWT</td>\n",
       "      <td>202.580835</td>\n",
       "    </tr>\n",
       "    <tr>\n",
       "      <th>7</th>\n",
       "      <td>20:00-23:00</td>\n",
       "      <td>AWT</td>\n",
       "      <td>483.968057</td>\n",
       "    </tr>\n",
       "    <tr>\n",
       "      <th>8</th>\n",
       "      <td>07:00-09:00</td>\n",
       "      <td>EWT</td>\n",
       "      <td>22.640575</td>\n",
       "    </tr>\n",
       "    <tr>\n",
       "      <th>9</th>\n",
       "      <td>10:00-16:00</td>\n",
       "      <td>EWT</td>\n",
       "      <td>38.995338</td>\n",
       "    </tr>\n",
       "    <tr>\n",
       "      <th>10</th>\n",
       "      <td>16:00-19:00</td>\n",
       "      <td>EWT</td>\n",
       "      <td>15.642656</td>\n",
       "    </tr>\n",
       "    <tr>\n",
       "      <th>11</th>\n",
       "      <td>20:00-23:00</td>\n",
       "      <td>EWT</td>\n",
       "      <td>25.247748</td>\n",
       "    </tr>\n",
       "  </tbody>\n",
       "</table>\n",
       "</div>"
      ],
      "text/plain": [
       "         Period variable       value\n",
       "0   07:00-09:00      SWT  201.833376\n",
       "1   10:00-16:00      SWT  222.688627\n",
       "2   16:00-19:00      SWT  186.938179\n",
       "3   20:00-23:00      SWT  458.720309\n",
       "4   07:00-09:00      AWT  224.473952\n",
       "5   10:00-16:00      AWT  261.683965\n",
       "6   16:00-19:00      AWT  202.580835\n",
       "7   20:00-23:00      AWT  483.968057\n",
       "8   07:00-09:00      EWT   22.640575\n",
       "9   10:00-16:00      EWT   38.995338\n",
       "10  16:00-19:00      EWT   15.642656\n",
       "11  20:00-23:00      EWT   25.247748"
      ]
     },
     "execution_count": 60,
     "metadata": {},
     "output_type": "execute_result"
    }
   ],
   "source": [
    "df_plot"
   ]
  },
  {
   "cell_type": "code",
   "execution_count": 61,
   "metadata": {},
   "outputs": [],
   "source": [
    "df_plot.to_csv('db_line_8_waiting.csv', index=False)"
   ]
  },
  {
   "cell_type": "code",
   "execution_count": 9,
   "metadata": {},
   "outputs": [],
   "source": [
    "data['Period'] = data['Period'].apply(lambda x: x.replace('From ', '').replace(' to ', '-'))"
   ]
  },
  {
   "cell_type": "code",
   "execution_count": 11,
   "metadata": {},
   "outputs": [],
   "source": [
    "x = data['Period']"
   ]
  },
  {
   "cell_type": "code",
   "execution_count": 18,
   "metadata": {},
   "outputs": [
    {
     "data": {
      "text/plain": [
       "0    22.640575\n",
       "1    38.995338\n",
       "2    15.642656\n",
       "3    25.247748\n",
       "Name: EWT, dtype: float64"
      ]
     },
     "execution_count": 18,
     "metadata": {},
     "output_type": "execute_result"
    }
   ],
   "source": [
    "data['EWT']"
   ]
  },
  {
   "cell_type": "code",
   "execution_count": 39,
   "metadata": {},
   "outputs": [],
   "source": [
    "data.to_csv('regularity_8_totals.csv', index=False)"
   ]
  },
  {
   "cell_type": "code",
   "execution_count": 65,
   "metadata": {},
   "outputs": [
    {
     "data": {
      "image/png": "[encoded data removed]",
      "text/plain": [
       "<Figure size 640x480 with 1 Axes>"
      ]
     },
     "metadata": {},
     "output_type": "display_data"
    }
   ],
   "source": [
    "fig, ax = plt.subplots()\n",
    "\n",
    "ind = np.arange(4)\n",
    "width = 0.15\n",
    "\n",
    "\n",
    "swt = data['SWT']\n",
    "awt = data['AWT']\n",
    "ewt = data['EWT']\n",
    "\n",
    "# per dimension\n",
    "colors = ['#ee9b00', '#ca6702', '#ae2012']\n",
    "# markers = ['x','o','v']\n",
    "\n",
    "# all_groups = [ ewt, awt, swt ]\n",
    "all_groups = [ swt, awt, ewt ]\n",
    "\n",
    "# plot each group of bars; loop-variable bar_values contains values for bars\n",
    "for i, bar_values in enumerate(all_groups):\n",
    "  # compute position for each bar\n",
    "  bar_position = width*i\n",
    "  ax.bar( ind + bar_position, bar_values, width, color=colors[i] )\n",
    "\n",
    "# ax.bar(x, swt, width=1, color='green', edgecolor=\"white\", linewidth=0.7)\n",
    "# ax.bar(x, awt, width=1, color='olive', edgecolor=\"white\", linewidth=0.7)\n",
    "plt.xlabel('Time groups')\n",
    "plt.ylabel('Waiting time (seconds)')\n",
    "# plt.xticks(ind + width, x)\n",
    "plt.tight_layout()\n",
    "ax.legend(['SWT', 'AWT', 'EWT'])\n",
    "plt.show()"
   ]
  },
  {
   "cell_type": "code",
   "execution_count": null,
   "metadata": {},
   "outputs": [],
   "source": []
  }
 ],
 "metadata": {
  "kernelspec": {
   "display_name": "Python 3",
   "language": "python",
   "name": "python3"
  },
  "language_info": {
   "codemirror_mode": {
    "name": "ipython",
    "version": 3
   },
   "file_extension": ".py",
   "mimetype": "text/x-python",
   "name": "python",
   "nbconvert_exporter": "python",
   "pygments_lexer": "ipython3",
   "version": "3.9.13"
  },
  "orig_nbformat": 4,
  "vscode": {
   "interpreter": {
    "hash": "b2354ffde8744fc4e2c7e1e5bd0e161f6ebd713c53c42b2d267d61e9ad8c6e0b"
   }
  }
 },
 "nbformat": 4,
 "nbformat_minor": 2
}
