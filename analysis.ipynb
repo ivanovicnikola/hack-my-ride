{
 "cells": [
  {
   "cell_type": "code",
   "execution_count": 4,
   "metadata": {},
   "outputs": [],
   "source": [
    "import pandas as pd"
   ]
  },
  {
   "cell_type": "code",
   "execution_count": 5,
   "metadata": {},
   "outputs": [],
   "source": [
    "gps_track = pd.read_csv('data/gps_track_processed.csv', dtype={'lineId':int, 'directionId': int, 'pointId': int})"
   ]
  },
  {
   "cell_type": "code",
   "execution_count": 6,
   "metadata": {},
   "outputs": [
    {
     "data": {
      "text/html": [
       "<div>\n",
       "<style scoped>\n",
       "    .dataframe tbody tr th:only-of-type {\n",
       "        vertical-align: middle;\n",
       "    }\n",
       "\n",
       "    .dataframe tbody tr th {\n",
       "        vertical-align: top;\n",
       "    }\n",
       "\n",
       "    .dataframe thead th {\n",
       "        text-align: right;\n",
       "    }\n",
       "</style>\n",
       "<table border=\"1\" class=\"dataframe\">\n",
       "  <thead>\n",
       "    <tr style=\"text-align: right;\">\n",
       "      <th></th>\n",
       "      <th>timestamp</th>\n",
       "      <th>lineId</th>\n",
       "      <th>directionId</th>\n",
       "      <th>distanceFromPoint</th>\n",
       "      <th>pointId</th>\n",
       "      <th>date</th>\n",
       "      <th>time</th>\n",
       "      <th>weekday</th>\n",
       "    </tr>\n",
       "  </thead>\n",
       "  <tbody>\n",
       "    <tr>\n",
       "      <th>0</th>\n",
       "      <td>1630914886924</td>\n",
       "      <td>1</td>\n",
       "      <td>8161</td>\n",
       "      <td>1.0</td>\n",
       "      <td>8012</td>\n",
       "      <td>20210906</td>\n",
       "      <td>07:54:46</td>\n",
       "      <td>0</td>\n",
       "    </tr>\n",
       "    <tr>\n",
       "      <th>1</th>\n",
       "      <td>1630914886924</td>\n",
       "      <td>1</td>\n",
       "      <td>8162</td>\n",
       "      <td>0.0</td>\n",
       "      <td>8142</td>\n",
       "      <td>20210906</td>\n",
       "      <td>07:54:46</td>\n",
       "      <td>0</td>\n",
       "    </tr>\n",
       "    <tr>\n",
       "      <th>2</th>\n",
       "      <td>1630914886924</td>\n",
       "      <td>1</td>\n",
       "      <td>8162</td>\n",
       "      <td>0.0</td>\n",
       "      <td>8282</td>\n",
       "      <td>20210906</td>\n",
       "      <td>07:54:46</td>\n",
       "      <td>0</td>\n",
       "    </tr>\n",
       "    <tr>\n",
       "      <th>3</th>\n",
       "      <td>1630914886924</td>\n",
       "      <td>1</td>\n",
       "      <td>8731</td>\n",
       "      <td>0.0</td>\n",
       "      <td>8111</td>\n",
       "      <td>20210906</td>\n",
       "      <td>07:54:46</td>\n",
       "      <td>0</td>\n",
       "    </tr>\n",
       "    <tr>\n",
       "      <th>4</th>\n",
       "      <td>1630914886924</td>\n",
       "      <td>1</td>\n",
       "      <td>8162</td>\n",
       "      <td>1.0</td>\n",
       "      <td>8062</td>\n",
       "      <td>20210906</td>\n",
       "      <td>07:54:46</td>\n",
       "      <td>0</td>\n",
       "    </tr>\n",
       "  </tbody>\n",
       "</table>\n",
       "</div>"
      ],
      "text/plain": [
       "       timestamp  lineId  directionId  distanceFromPoint  pointId      date  \\\n",
       "0  1630914886924       1         8161                1.0     8012  20210906   \n",
       "1  1630914886924       1         8162                0.0     8142  20210906   \n",
       "2  1630914886924       1         8162                0.0     8282  20210906   \n",
       "3  1630914886924       1         8731                0.0     8111  20210906   \n",
       "4  1630914886924       1         8162                1.0     8062  20210906   \n",
       "\n",
       "       time  weekday  \n",
       "0  07:54:46        0  \n",
       "1  07:54:46        0  \n",
       "2  07:54:46        0  \n",
       "3  07:54:46        0  \n",
       "4  07:54:46        0  "
      ]
     },
     "execution_count": 6,
     "metadata": {},
     "output_type": "execute_result"
    }
   ],
   "source": [
    "gps_track.head(5)"
   ]
  },
  {
   "cell_type": "code",
   "execution_count": null,
   "metadata": {},
   "outputs": [],
   "source": []
  }
 ],
 "metadata": {
  "kernelspec": {
   "display_name": "Python 3.9.13 64-bit (microsoft store)",
   "language": "python",
   "name": "python3"
  },
  "language_info": {
   "codemirror_mode": {
    "name": "ipython",
    "version": 3
   },
   "file_extension": ".py",
   "mimetype": "text/x-python",
   "name": "python",
   "nbconvert_exporter": "python",
   "pygments_lexer": "ipython3",
   "version": "3.9.13"
  },
  "orig_nbformat": 4,
  "vscode": {
   "interpreter": {
    "hash": "b2354ffde8744fc4e2c7e1e5bd0e161f6ebd713c53c42b2d267d61e9ad8c6e0b"
   }
  }
 },
 "nbformat": 4,
 "nbformat_minor": 2
}
