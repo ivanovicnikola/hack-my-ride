{
 "cells": [
  {
   "cell_type": "code",
   "execution_count": 100,
   "metadata": {},
   "outputs": [],
   "source": [
    "import os\n",
    "import pandas as pd\n",
    "import re\n",
    "from Scripts.json_to_csv import convert_to_csv"
   ]
  },
  {
   "cell_type": "markdown",
   "metadata": {},
   "source": [
    "### Reading GPS track data\n",
    "Read the 13 `vehiclePosition` json files and convert them to csv.\n",
    "\n",
    "\n",
    "__Assumption__: All the `json` and `csv` files should be inside `data` directory"
   ]
  },
  {
   "cell_type": "code",
   "execution_count": 101,
   "metadata": {},
   "outputs": [],
   "source": [
    "# Current directory path\n",
    "root = os.path.realpath(\".\")\n",
    "data_dir = os.path.join(root, 'data')"
   ]
  },
  {
   "cell_type": "code",
   "execution_count": 4,
   "metadata": {},
   "outputs": [],
   "source": [
    "# Get all the files in the root containing the word 'vehiclePosition'\n",
    "input_files = [os.path.join(data_dir, x) for x in os.listdir(data_dir) if 'vehiclePosition' in x]\n",
    "# For each input files generate the filename with csv extension\n",
    "output_files = [x.replace('.json', '.csv') for x in input_files]"
   ]
  },
  {
   "cell_type": "code",
   "execution_count": 5,
   "metadata": {},
   "outputs": [
    {
     "name": "stdout",
     "output_type": "stream",
     "text": [
      "Preprocessing  /home/nikola/hack-my-ride/data/vehiclePosition03.json\n",
      "/home/nikola/hack-my-ride/data/vehiclePosition03.csv generated success!\n",
      "Preprocessing  /home/nikola/hack-my-ride/data/vehiclePosition02.json\n",
      "/home/nikola/hack-my-ride/data/vehiclePosition02.csv generated success!\n",
      "Preprocessing  /home/nikola/hack-my-ride/data/vehiclePosition10.json\n",
      "/home/nikola/hack-my-ride/data/vehiclePosition10.csv generated success!\n",
      "Preprocessing  /home/nikola/hack-my-ride/data/vehiclePosition06.json\n",
      "/home/nikola/hack-my-ride/data/vehiclePosition06.csv generated success!\n",
      "Preprocessing  /home/nikola/hack-my-ride/data/vehiclePosition11.json\n",
      "/home/nikola/hack-my-ride/data/vehiclePosition11.csv generated success!\n",
      "Preprocessing  /home/nikola/hack-my-ride/data/vehiclePosition08.json\n",
      "/home/nikola/hack-my-ride/data/vehiclePosition08.csv generated success!\n",
      "Preprocessing  /home/nikola/hack-my-ride/data/vehiclePosition13.json\n",
      "/home/nikola/hack-my-ride/data/vehiclePosition13.csv generated success!\n",
      "Preprocessing  /home/nikola/hack-my-ride/data/vehiclePosition04.json\n",
      "/home/nikola/hack-my-ride/data/vehiclePosition04.csv generated success!\n",
      "Preprocessing  /home/nikola/hack-my-ride/data/vehiclePosition01.json\n",
      "/home/nikola/hack-my-ride/data/vehiclePosition01.csv generated success!\n",
      "Preprocessing  /home/nikola/hack-my-ride/data/vehiclePosition12.json\n",
      "/home/nikola/hack-my-ride/data/vehiclePosition12.csv generated success!\n",
      "Preprocessing  /home/nikola/hack-my-ride/data/vehiclePosition09.json\n",
      "/home/nikola/hack-my-ride/data/vehiclePosition09.csv generated success!\n",
      "Preprocessing  /home/nikola/hack-my-ride/data/vehiclePosition07.json\n",
      "/home/nikola/hack-my-ride/data/vehiclePosition07.csv generated success!\n",
      "Preprocessing  /home/nikola/hack-my-ride/data/vehiclePosition05.json\n",
      "/home/nikola/hack-my-ride/data/vehiclePosition05.csv generated success!\n"
     ]
    }
   ],
   "source": [
    "for i, file in enumerate(input_files):\n",
    "    convert_to_csv(file, output_files[i])"
   ]
  },
  {
   "cell_type": "markdown",
   "metadata": {},
   "source": [
    "### [Optional] Merge all the `csv` files into single file"
   ]
  },
  {
   "cell_type": "code",
   "execution_count": 6,
   "metadata": {},
   "outputs": [
    {
     "name": "stdout",
     "output_type": "stream",
     "text": [
      "Concatenating...\n"
     ]
    }
   ],
   "source": [
    "csvs = [pd.read_csv(f) for f in output_files]\n",
    "print('Concatenating...')\n",
    "df_data = pd.concat(csvs, ignore_index=True)\n",
    "gps_file = os.path.join(data_dir, 'gps_track.csv')\n",
    "df_data.to_csv(gps_file, index=False)"
   ]
  },
  {
   "cell_type": "markdown",
   "metadata": {},
   "source": [
    "## 2) Processing GTFS-Sep23 tabular data"
   ]
  },
  {
   "cell_type": "code",
   "execution_count": 103,
   "metadata": {},
   "outputs": [
    {
     "ename": "FileNotFoundError",
     "evalue": "[Errno 2] No such file or directory: '/home/nikola/hack-my-ride/data/gtfs23Sept/data/gtfs23Sept'",
     "output_type": "error",
     "traceback": [
      "\u001b[0;31m---------------------------------------------------------------------------\u001b[0m",
      "\u001b[0;31mFileNotFoundError\u001b[0m                         Traceback (most recent call last)",
      "Cell \u001b[0;32mIn[103], line 2\u001b[0m\n\u001b[1;32m      1\u001b[0m gtfs_dir \u001b[39m=\u001b[39m os\u001b[39m.\u001b[39mpath\u001b[39m.\u001b[39mjoin(data_dir, \u001b[39m'\u001b[39m\u001b[39mgtfs23Sept\u001b[39m\u001b[39m'\u001b[39m)\n\u001b[0;32m----> 2\u001b[0m os\u001b[39m.\u001b[39;49mchdir(gtfs_dir)\n",
      "\u001b[0;31mFileNotFoundError\u001b[0m: [Errno 2] No such file or directory: '/home/nikola/hack-my-ride/data/gtfs23Sept/data/gtfs23Sept'"
     ]
    }
   ],
   "source": [
    "gtfs_dir = os.path.join(data_dir, 'gtfs23Sept')\n",
    "os.chdir(gtfs_dir)"
   ]
  },
  {
   "cell_type": "markdown",
   "metadata": {},
   "source": [
    "### 2.1) Read data"
   ]
  },
  {
   "cell_type": "code",
   "execution_count": 91,
   "metadata": {},
   "outputs": [],
   "source": [
    "stops = pd.read_csv('stops.txt')\n",
    "stop_times = pd.read_csv('stop_times.txt', low_memory=False)\n",
    "calendar = pd.read_csv('calendar.txt')\n",
    "calendar_dates = pd.read_csv('calendar_dates.txt')\n",
    "routes = pd.read_csv('routes.txt')\n",
    "trips = pd.read_csv('trips.txt')"
   ]
  },
  {
   "cell_type": "markdown",
   "metadata": {},
   "source": [
    "### 2.2) Preprocessing `stops`"
   ]
  },
  {
   "cell_type": "code",
   "execution_count": 9,
   "metadata": {},
   "outputs": [
    {
     "data": {
      "text/html": [
       "<div>\n",
       "<style scoped>\n",
       "    .dataframe tbody tr th:only-of-type {\n",
       "        vertical-align: middle;\n",
       "    }\n",
       "\n",
       "    .dataframe tbody tr th {\n",
       "        vertical-align: top;\n",
       "    }\n",
       "\n",
       "    .dataframe thead th {\n",
       "        text-align: right;\n",
       "    }\n",
       "</style>\n",
       "<table border=\"1\" class=\"dataframe\">\n",
       "  <thead>\n",
       "    <tr style=\"text-align: right;\">\n",
       "      <th></th>\n",
       "      <th>stop_id</th>\n",
       "      <th>stop_code</th>\n",
       "      <th>stop_name</th>\n",
       "      <th>stop_desc</th>\n",
       "      <th>stop_lat</th>\n",
       "      <th>stop_lon</th>\n",
       "      <th>zone_id</th>\n",
       "      <th>stop_url</th>\n",
       "      <th>location_type</th>\n",
       "      <th>parent_station</th>\n",
       "    </tr>\n",
       "  </thead>\n",
       "  <tbody>\n",
       "    <tr>\n",
       "      <th>0</th>\n",
       "      <td>0089</td>\n",
       "      <td>NaN</td>\n",
       "      <td>MONTGOMERY</td>\n",
       "      <td>NaN</td>\n",
       "      <td>50.838006</td>\n",
       "      <td>4.408970</td>\n",
       "      <td>NaN</td>\n",
       "      <td>NaN</td>\n",
       "      <td>0</td>\n",
       "      <td>13.0</td>\n",
       "    </tr>\n",
       "    <tr>\n",
       "      <th>1</th>\n",
       "      <td>0470F</td>\n",
       "      <td>NaN</td>\n",
       "      <td>SIMONIS</td>\n",
       "      <td>NaN</td>\n",
       "      <td>50.863666</td>\n",
       "      <td>4.329612</td>\n",
       "      <td>NaN</td>\n",
       "      <td>NaN</td>\n",
       "      <td>0</td>\n",
       "      <td>NaN</td>\n",
       "    </tr>\n",
       "    <tr>\n",
       "      <th>2</th>\n",
       "      <td>0471</td>\n",
       "      <td>NaN</td>\n",
       "      <td>SIMONIS</td>\n",
       "      <td>NaN</td>\n",
       "      <td>50.863732</td>\n",
       "      <td>4.329236</td>\n",
       "      <td>NaN</td>\n",
       "      <td>NaN</td>\n",
       "      <td>0</td>\n",
       "      <td>39.0</td>\n",
       "    </tr>\n",
       "    <tr>\n",
       "      <th>3</th>\n",
       "      <td>0472</td>\n",
       "      <td>NaN</td>\n",
       "      <td>SIMONIS</td>\n",
       "      <td>NaN</td>\n",
       "      <td>50.863543</td>\n",
       "      <td>4.329023</td>\n",
       "      <td>NaN</td>\n",
       "      <td>NaN</td>\n",
       "      <td>0</td>\n",
       "      <td>39.0</td>\n",
       "    </tr>\n",
       "    <tr>\n",
       "      <th>4</th>\n",
       "      <td>0473F</td>\n",
       "      <td>NaN</td>\n",
       "      <td>SIMONIS</td>\n",
       "      <td>NaN</td>\n",
       "      <td>50.863418</td>\n",
       "      <td>4.330031</td>\n",
       "      <td>NaN</td>\n",
       "      <td>NaN</td>\n",
       "      <td>0</td>\n",
       "      <td>NaN</td>\n",
       "    </tr>\n",
       "  </tbody>\n",
       "</table>\n",
       "</div>"
      ],
      "text/plain": [
       "  stop_id  stop_code   stop_name  stop_desc   stop_lat  stop_lon  zone_id  \\\n",
       "0    0089        NaN  MONTGOMERY        NaN  50.838006  4.408970      NaN   \n",
       "1   0470F        NaN     SIMONIS        NaN  50.863666  4.329612      NaN   \n",
       "2    0471        NaN     SIMONIS        NaN  50.863732  4.329236      NaN   \n",
       "3    0472        NaN     SIMONIS        NaN  50.863543  4.329023      NaN   \n",
       "4   0473F        NaN     SIMONIS        NaN  50.863418  4.330031      NaN   \n",
       "\n",
       "   stop_url  location_type  parent_station  \n",
       "0       NaN              0            13.0  \n",
       "1       NaN              0             NaN  \n",
       "2       NaN              0            39.0  \n",
       "3       NaN              0            39.0  \n",
       "4       NaN              0             NaN  "
      ]
     },
     "execution_count": 9,
     "metadata": {},
     "output_type": "execute_result"
    }
   ],
   "source": [
    "stops.head(5)"
   ]
  },
  {
   "cell_type": "markdown",
   "metadata": {},
   "source": [
    "Remove the letters from `stop_id`"
   ]
  },
  {
   "cell_type": "code",
   "execution_count": 10,
   "metadata": {},
   "outputs": [],
   "source": [
    "stops['stop_id'] = stops['stop_id'].map(lambda x: int(re.sub('[^0-9]', '', x)))"
   ]
  },
  {
   "cell_type": "code",
   "execution_count": 11,
   "metadata": {},
   "outputs": [
    {
     "data": {
      "text/plain": [
       "28660"
      ]
     },
     "execution_count": 11,
     "metadata": {},
     "output_type": "execute_result"
    }
   ],
   "source": [
    "stops.size"
   ]
  },
  {
   "cell_type": "markdown",
   "metadata": {},
   "source": [
    "Check if we have possible duplicates"
   ]
  },
  {
   "cell_type": "code",
   "execution_count": 12,
   "metadata": {},
   "outputs": [
    {
     "data": {
      "text/html": [
       "<div>\n",
       "<style scoped>\n",
       "    .dataframe tbody tr th:only-of-type {\n",
       "        vertical-align: middle;\n",
       "    }\n",
       "\n",
       "    .dataframe tbody tr th {\n",
       "        vertical-align: top;\n",
       "    }\n",
       "\n",
       "    .dataframe thead th {\n",
       "        text-align: right;\n",
       "    }\n",
       "</style>\n",
       "<table border=\"1\" class=\"dataframe\">\n",
       "  <thead>\n",
       "    <tr style=\"text-align: right;\">\n",
       "      <th></th>\n",
       "      <th>stop_id</th>\n",
       "      <th>stop_code</th>\n",
       "      <th>stop_name</th>\n",
       "      <th>stop_desc</th>\n",
       "      <th>stop_lat</th>\n",
       "      <th>stop_lon</th>\n",
       "      <th>zone_id</th>\n",
       "      <th>stop_url</th>\n",
       "      <th>location_type</th>\n",
       "      <th>parent_station</th>\n",
       "    </tr>\n",
       "  </thead>\n",
       "  <tbody>\n",
       "    <tr>\n",
       "      <th>111</th>\n",
       "      <td>1094</td>\n",
       "      <td>NaN</td>\n",
       "      <td>VALIDA</td>\n",
       "      <td>NaN</td>\n",
       "      <td>50.866310</td>\n",
       "      <td>4.303465</td>\n",
       "      <td>NaN</td>\n",
       "      <td>NaN</td>\n",
       "      <td>0</td>\n",
       "      <td>NaN</td>\n",
       "    </tr>\n",
       "    <tr>\n",
       "      <th>112</th>\n",
       "      <td>1094</td>\n",
       "      <td>NaN</td>\n",
       "      <td>VALIDA</td>\n",
       "      <td>NaN</td>\n",
       "      <td>50.866292</td>\n",
       "      <td>4.303465</td>\n",
       "      <td>NaN</td>\n",
       "      <td>NaN</td>\n",
       "      <td>0</td>\n",
       "      <td>NaN</td>\n",
       "    </tr>\n",
       "    <tr>\n",
       "      <th>182</th>\n",
       "      <td>1199</td>\n",
       "      <td>NaN</td>\n",
       "      <td>GOFFIN</td>\n",
       "      <td>NaN</td>\n",
       "      <td>50.866834</td>\n",
       "      <td>4.308323</td>\n",
       "      <td>NaN</td>\n",
       "      <td>NaN</td>\n",
       "      <td>0</td>\n",
       "      <td>NaN</td>\n",
       "    </tr>\n",
       "    <tr>\n",
       "      <th>183</th>\n",
       "      <td>1199</td>\n",
       "      <td>NaN</td>\n",
       "      <td>GOFFIN</td>\n",
       "      <td>NaN</td>\n",
       "      <td>50.866834</td>\n",
       "      <td>4.308323</td>\n",
       "      <td>NaN</td>\n",
       "      <td>NaN</td>\n",
       "      <td>0</td>\n",
       "      <td>NaN</td>\n",
       "    </tr>\n",
       "    <tr>\n",
       "      <th>201</th>\n",
       "      <td>1236</td>\n",
       "      <td>NaN</td>\n",
       "      <td>VALIDA</td>\n",
       "      <td>NaN</td>\n",
       "      <td>50.866256</td>\n",
       "      <td>4.303181</td>\n",
       "      <td>NaN</td>\n",
       "      <td>NaN</td>\n",
       "      <td>0</td>\n",
       "      <td>NaN</td>\n",
       "    </tr>\n",
       "    <tr>\n",
       "      <th>...</th>\n",
       "      <td>...</td>\n",
       "      <td>...</td>\n",
       "      <td>...</td>\n",
       "      <td>...</td>\n",
       "      <td>...</td>\n",
       "      <td>...</td>\n",
       "      <td>...</td>\n",
       "      <td>...</td>\n",
       "      <td>...</td>\n",
       "      <td>...</td>\n",
       "    </tr>\n",
       "    <tr>\n",
       "      <th>2360</th>\n",
       "      <td>6869</td>\n",
       "      <td>NaN</td>\n",
       "      <td>GARE DE JETTE</td>\n",
       "      <td>NaN</td>\n",
       "      <td>50.880128</td>\n",
       "      <td>4.330471</td>\n",
       "      <td>NaN</td>\n",
       "      <td>NaN</td>\n",
       "      <td>0</td>\n",
       "      <td>NaN</td>\n",
       "    </tr>\n",
       "    <tr>\n",
       "      <th>2361</th>\n",
       "      <td>6931</td>\n",
       "      <td>NaN</td>\n",
       "      <td>GARE DE SAINT-JOB</td>\n",
       "      <td>NaN</td>\n",
       "      <td>50.794483</td>\n",
       "      <td>4.362255</td>\n",
       "      <td>NaN</td>\n",
       "      <td>NaN</td>\n",
       "      <td>0</td>\n",
       "      <td>NaN</td>\n",
       "    </tr>\n",
       "    <tr>\n",
       "      <th>2362</th>\n",
       "      <td>6931</td>\n",
       "      <td>NaN</td>\n",
       "      <td>GARE DE SAINT-JOB</td>\n",
       "      <td>NaN</td>\n",
       "      <td>50.794465</td>\n",
       "      <td>4.362270</td>\n",
       "      <td>NaN</td>\n",
       "      <td>NaN</td>\n",
       "      <td>0</td>\n",
       "      <td>NaN</td>\n",
       "    </tr>\n",
       "    <tr>\n",
       "      <th>2364</th>\n",
       "      <td>6956</td>\n",
       "      <td>NaN</td>\n",
       "      <td>GARE DE SAINT-JOB</td>\n",
       "      <td>NaN</td>\n",
       "      <td>50.794411</td>\n",
       "      <td>4.361518</td>\n",
       "      <td>NaN</td>\n",
       "      <td>NaN</td>\n",
       "      <td>0</td>\n",
       "      <td>NaN</td>\n",
       "    </tr>\n",
       "    <tr>\n",
       "      <th>2365</th>\n",
       "      <td>6956</td>\n",
       "      <td>NaN</td>\n",
       "      <td>GARE DE SAINT-JOB</td>\n",
       "      <td>NaN</td>\n",
       "      <td>50.794411</td>\n",
       "      <td>4.361518</td>\n",
       "      <td>NaN</td>\n",
       "      <td>NaN</td>\n",
       "      <td>0</td>\n",
       "      <td>NaN</td>\n",
       "    </tr>\n",
       "  </tbody>\n",
       "</table>\n",
       "<p>284 rows × 10 columns</p>\n",
       "</div>"
      ],
      "text/plain": [
       "      stop_id  stop_code          stop_name  stop_desc   stop_lat  stop_lon  \\\n",
       "111      1094        NaN             VALIDA        NaN  50.866310  4.303465   \n",
       "112      1094        NaN             VALIDA        NaN  50.866292  4.303465   \n",
       "182      1199        NaN             GOFFIN        NaN  50.866834  4.308323   \n",
       "183      1199        NaN             GOFFIN        NaN  50.866834  4.308323   \n",
       "201      1236        NaN             VALIDA        NaN  50.866256  4.303181   \n",
       "...       ...        ...                ...        ...        ...       ...   \n",
       "2360     6869        NaN      GARE DE JETTE        NaN  50.880128  4.330471   \n",
       "2361     6931        NaN  GARE DE SAINT-JOB        NaN  50.794483  4.362255   \n",
       "2362     6931        NaN  GARE DE SAINT-JOB        NaN  50.794465  4.362270   \n",
       "2364     6956        NaN  GARE DE SAINT-JOB        NaN  50.794411  4.361518   \n",
       "2365     6956        NaN  GARE DE SAINT-JOB        NaN  50.794411  4.361518   \n",
       "\n",
       "      zone_id  stop_url  location_type  parent_station  \n",
       "111       NaN       NaN              0             NaN  \n",
       "112       NaN       NaN              0             NaN  \n",
       "182       NaN       NaN              0             NaN  \n",
       "183       NaN       NaN              0             NaN  \n",
       "201       NaN       NaN              0             NaN  \n",
       "...       ...       ...            ...             ...  \n",
       "2360      NaN       NaN              0             NaN  \n",
       "2361      NaN       NaN              0             NaN  \n",
       "2362      NaN       NaN              0             NaN  \n",
       "2364      NaN       NaN              0             NaN  \n",
       "2365      NaN       NaN              0             NaN  \n",
       "\n",
       "[284 rows x 10 columns]"
      ]
     },
     "execution_count": 12,
     "metadata": {},
     "output_type": "execute_result"
    }
   ],
   "source": [
    "stops[stops.duplicated(['stop_id'], keep=False)]"
   ]
  },
  {
   "cell_type": "code",
   "execution_count": 13,
   "metadata": {},
   "outputs": [
    {
     "name": "stdout",
     "output_type": "stream",
     "text": [
      "Stops Before:  28660\n",
      "Stops After:  28320\n"
     ]
    }
   ],
   "source": [
    "print('Stops Before: ', stops.size)\n",
    "stops.drop_duplicates(inplace=True)\n",
    "print('Stops After: ', stops.size)\n"
   ]
  },
  {
   "cell_type": "markdown",
   "metadata": {},
   "source": [
    "Remove Redundant Columns from **Stops**"
   ]
  },
  {
   "cell_type": "code",
   "execution_count": 14,
   "metadata": {},
   "outputs": [],
   "source": [
    "stops = stops[['stop_id','stop_name', 'stop_lat', 'stop_lon']]"
   ]
  },
  {
   "cell_type": "markdown",
   "metadata": {},
   "source": [
    "### 2.3) Preprocessing `stop_times`"
   ]
  },
  {
   "cell_type": "code",
   "execution_count": 92,
   "metadata": {},
   "outputs": [
    {
     "data": {
      "text/html": [
       "<div>\n",
       "<style scoped>\n",
       "    .dataframe tbody tr th:only-of-type {\n",
       "        vertical-align: middle;\n",
       "    }\n",
       "\n",
       "    .dataframe tbody tr th {\n",
       "        vertical-align: top;\n",
       "    }\n",
       "\n",
       "    .dataframe thead th {\n",
       "        text-align: right;\n",
       "    }\n",
       "</style>\n",
       "<table border=\"1\" class=\"dataframe\">\n",
       "  <thead>\n",
       "    <tr style=\"text-align: right;\">\n",
       "      <th></th>\n",
       "      <th>trip_id</th>\n",
       "      <th>arrival_time</th>\n",
       "      <th>departure_time</th>\n",
       "      <th>stop_id</th>\n",
       "      <th>stop_sequence</th>\n",
       "      <th>pickup_type</th>\n",
       "      <th>drop_off_type</th>\n",
       "    </tr>\n",
       "  </thead>\n",
       "  <tbody>\n",
       "    <tr>\n",
       "      <th>0</th>\n",
       "      <td>113275577237259001</td>\n",
       "      <td>08:52:00</td>\n",
       "      <td>08:52:00</td>\n",
       "      <td>3107</td>\n",
       "      <td>1</td>\n",
       "      <td>0</td>\n",
       "      <td>0</td>\n",
       "    </tr>\n",
       "    <tr>\n",
       "      <th>1</th>\n",
       "      <td>113275577237259001</td>\n",
       "      <td>08:53:00</td>\n",
       "      <td>08:53:00</td>\n",
       "      <td>3177</td>\n",
       "      <td>2</td>\n",
       "      <td>0</td>\n",
       "      <td>0</td>\n",
       "    </tr>\n",
       "    <tr>\n",
       "      <th>2</th>\n",
       "      <td>113275577237259001</td>\n",
       "      <td>08:54:03</td>\n",
       "      <td>08:54:03</td>\n",
       "      <td>3171</td>\n",
       "      <td>3</td>\n",
       "      <td>0</td>\n",
       "      <td>0</td>\n",
       "    </tr>\n",
       "    <tr>\n",
       "      <th>3</th>\n",
       "      <td>113275577237259001</td>\n",
       "      <td>08:55:30</td>\n",
       "      <td>08:55:30</td>\n",
       "      <td>3172</td>\n",
       "      <td>4</td>\n",
       "      <td>0</td>\n",
       "      <td>0</td>\n",
       "    </tr>\n",
       "    <tr>\n",
       "      <th>4</th>\n",
       "      <td>113275577237259001</td>\n",
       "      <td>08:56:18</td>\n",
       "      <td>08:56:18</td>\n",
       "      <td>3173</td>\n",
       "      <td>5</td>\n",
       "      <td>0</td>\n",
       "      <td>0</td>\n",
       "    </tr>\n",
       "  </tbody>\n",
       "</table>\n",
       "</div>"
      ],
      "text/plain": [
       "              trip_id arrival_time departure_time stop_id  stop_sequence  \\\n",
       "0  113275577237259001     08:52:00       08:52:00    3107              1   \n",
       "1  113275577237259001     08:53:00       08:53:00    3177              2   \n",
       "2  113275577237259001     08:54:03       08:54:03    3171              3   \n",
       "3  113275577237259001     08:55:30       08:55:30    3172              4   \n",
       "4  113275577237259001     08:56:18       08:56:18    3173              5   \n",
       "\n",
       "   pickup_type  drop_off_type  \n",
       "0            0              0  \n",
       "1            0              0  \n",
       "2            0              0  \n",
       "3            0              0  \n",
       "4            0              0  "
      ]
     },
     "execution_count": 92,
     "metadata": {},
     "output_type": "execute_result"
    }
   ],
   "source": [
    "stop_times.head(5)"
   ]
  },
  {
   "cell_type": "code",
   "execution_count": 93,
   "metadata": {},
   "outputs": [
    {
     "data": {
      "text/html": [
       "<div>\n",
       "<style scoped>\n",
       "    .dataframe tbody tr th:only-of-type {\n",
       "        vertical-align: middle;\n",
       "    }\n",
       "\n",
       "    .dataframe tbody tr th {\n",
       "        vertical-align: top;\n",
       "    }\n",
       "\n",
       "    .dataframe thead th {\n",
       "        text-align: right;\n",
       "    }\n",
       "</style>\n",
       "<table border=\"1\" class=\"dataframe\">\n",
       "  <thead>\n",
       "    <tr style=\"text-align: right;\">\n",
       "      <th></th>\n",
       "      <th>trip_id</th>\n",
       "      <th>arrival_time</th>\n",
       "      <th>departure_time</th>\n",
       "      <th>stop_id</th>\n",
       "      <th>stop_sequence</th>\n",
       "      <th>pickup_type</th>\n",
       "      <th>drop_off_type</th>\n",
       "    </tr>\n",
       "  </thead>\n",
       "  <tbody>\n",
       "    <tr>\n",
       "      <th>0</th>\n",
       "      <td>113275577237259001</td>\n",
       "      <td>08:52:00</td>\n",
       "      <td>08:52:00</td>\n",
       "      <td>3107</td>\n",
       "      <td>1</td>\n",
       "      <td>0</td>\n",
       "      <td>0</td>\n",
       "    </tr>\n",
       "    <tr>\n",
       "      <th>1</th>\n",
       "      <td>113275577237259001</td>\n",
       "      <td>08:53:00</td>\n",
       "      <td>08:53:00</td>\n",
       "      <td>3177</td>\n",
       "      <td>2</td>\n",
       "      <td>0</td>\n",
       "      <td>0</td>\n",
       "    </tr>\n",
       "    <tr>\n",
       "      <th>2</th>\n",
       "      <td>113275577237259001</td>\n",
       "      <td>08:54:03</td>\n",
       "      <td>08:54:03</td>\n",
       "      <td>3171</td>\n",
       "      <td>3</td>\n",
       "      <td>0</td>\n",
       "      <td>0</td>\n",
       "    </tr>\n",
       "    <tr>\n",
       "      <th>3</th>\n",
       "      <td>113275577237259001</td>\n",
       "      <td>08:55:30</td>\n",
       "      <td>08:55:30</td>\n",
       "      <td>3172</td>\n",
       "      <td>4</td>\n",
       "      <td>0</td>\n",
       "      <td>0</td>\n",
       "    </tr>\n",
       "    <tr>\n",
       "      <th>4</th>\n",
       "      <td>113275577237259001</td>\n",
       "      <td>08:56:18</td>\n",
       "      <td>08:56:18</td>\n",
       "      <td>3173</td>\n",
       "      <td>5</td>\n",
       "      <td>0</td>\n",
       "      <td>0</td>\n",
       "    </tr>\n",
       "    <tr>\n",
       "      <th>...</th>\n",
       "      <td>...</td>\n",
       "      <td>...</td>\n",
       "      <td>...</td>\n",
       "      <td>...</td>\n",
       "      <td>...</td>\n",
       "      <td>...</td>\n",
       "      <td>...</td>\n",
       "    </tr>\n",
       "    <tr>\n",
       "      <th>1544619</th>\n",
       "      <td>113552074238492000</td>\n",
       "      <td>23:55:51</td>\n",
       "      <td>23:55:51</td>\n",
       "      <td>5751</td>\n",
       "      <td>2</td>\n",
       "      <td>0</td>\n",
       "      <td>0</td>\n",
       "    </tr>\n",
       "    <tr>\n",
       "      <th>1544620</th>\n",
       "      <td>113552074238492000</td>\n",
       "      <td>23:56:50</td>\n",
       "      <td>23:56:50</td>\n",
       "      <td>5753F</td>\n",
       "      <td>3</td>\n",
       "      <td>0</td>\n",
       "      <td>0</td>\n",
       "    </tr>\n",
       "    <tr>\n",
       "      <th>1544621</th>\n",
       "      <td>113552074238492000</td>\n",
       "      <td>23:58:32</td>\n",
       "      <td>23:58:32</td>\n",
       "      <td>5754</td>\n",
       "      <td>4</td>\n",
       "      <td>0</td>\n",
       "      <td>0</td>\n",
       "    </tr>\n",
       "    <tr>\n",
       "      <th>1544622</th>\n",
       "      <td>113552074238492000</td>\n",
       "      <td>24:00:00</td>\n",
       "      <td>24:00:00</td>\n",
       "      <td>1258G</td>\n",
       "      <td>5</td>\n",
       "      <td>0</td>\n",
       "      <td>0</td>\n",
       "    </tr>\n",
       "    <tr>\n",
       "      <th>1544623</th>\n",
       "      <td>113552074238492000</td>\n",
       "      <td>24:01:00</td>\n",
       "      <td>24:01:00</td>\n",
       "      <td>5756F</td>\n",
       "      <td>6</td>\n",
       "      <td>0</td>\n",
       "      <td>0</td>\n",
       "    </tr>\n",
       "  </tbody>\n",
       "</table>\n",
       "<p>1544621 rows × 7 columns</p>\n",
       "</div>"
      ],
      "text/plain": [
       "                    trip_id arrival_time departure_time stop_id  \\\n",
       "0        113275577237259001     08:52:00       08:52:00    3107   \n",
       "1        113275577237259001     08:53:00       08:53:00    3177   \n",
       "2        113275577237259001     08:54:03       08:54:03    3171   \n",
       "3        113275577237259001     08:55:30       08:55:30    3172   \n",
       "4        113275577237259001     08:56:18       08:56:18    3173   \n",
       "...                     ...          ...            ...     ...   \n",
       "1544619  113552074238492000     23:55:51       23:55:51    5751   \n",
       "1544620  113552074238492000     23:56:50       23:56:50   5753F   \n",
       "1544621  113552074238492000     23:58:32       23:58:32    5754   \n",
       "1544622  113552074238492000     24:00:00       24:00:00   1258G   \n",
       "1544623  113552074238492000     24:01:00       24:01:00   5756F   \n",
       "\n",
       "         stop_sequence  pickup_type  drop_off_type  \n",
       "0                    1            0              0  \n",
       "1                    2            0              0  \n",
       "2                    3            0              0  \n",
       "3                    4            0              0  \n",
       "4                    5            0              0  \n",
       "...                ...          ...            ...  \n",
       "1544619              2            0              0  \n",
       "1544620              3            0              0  \n",
       "1544621              4            0              0  \n",
       "1544622              5            0              0  \n",
       "1544623              6            0              0  \n",
       "\n",
       "[1544621 rows x 7 columns]"
      ]
     },
     "execution_count": 93,
     "metadata": {},
     "output_type": "execute_result"
    }
   ],
   "source": [
    "stop_times[stop_times.duplicated(['stop_id'], keep=False)]"
   ]
  },
  {
   "cell_type": "code",
   "execution_count": 94,
   "metadata": {},
   "outputs": [
    {
     "data": {
      "text/html": [
       "<div>\n",
       "<style scoped>\n",
       "    .dataframe tbody tr th:only-of-type {\n",
       "        vertical-align: middle;\n",
       "    }\n",
       "\n",
       "    .dataframe tbody tr th {\n",
       "        vertical-align: top;\n",
       "    }\n",
       "\n",
       "    .dataframe thead th {\n",
       "        text-align: right;\n",
       "    }\n",
       "</style>\n",
       "<table border=\"1\" class=\"dataframe\">\n",
       "  <thead>\n",
       "    <tr style=\"text-align: right;\">\n",
       "      <th></th>\n",
       "      <th>trip_id</th>\n",
       "      <th>arrival_time</th>\n",
       "      <th>departure_time</th>\n",
       "      <th>stop_id</th>\n",
       "      <th>stop_sequence</th>\n",
       "      <th>pickup_type</th>\n",
       "      <th>drop_off_type</th>\n",
       "    </tr>\n",
       "  </thead>\n",
       "  <tbody>\n",
       "    <tr>\n",
       "      <th>6</th>\n",
       "      <td>113275577237259001</td>\n",
       "      <td>08:58:00</td>\n",
       "      <td>08:58:00</td>\n",
       "      <td>3175B</td>\n",
       "      <td>7</td>\n",
       "      <td>0</td>\n",
       "      <td>0</td>\n",
       "    </tr>\n",
       "    <tr>\n",
       "      <th>17</th>\n",
       "      <td>113275578237259001</td>\n",
       "      <td>08:27:00</td>\n",
       "      <td>08:27:00</td>\n",
       "      <td>3175B</td>\n",
       "      <td>7</td>\n",
       "      <td>0</td>\n",
       "      <td>0</td>\n",
       "    </tr>\n",
       "    <tr>\n",
       "      <th>28</th>\n",
       "      <td>113275579237259001</td>\n",
       "      <td>08:20:00</td>\n",
       "      <td>08:20:00</td>\n",
       "      <td>3175B</td>\n",
       "      <td>7</td>\n",
       "      <td>0</td>\n",
       "      <td>0</td>\n",
       "    </tr>\n",
       "    <tr>\n",
       "      <th>39</th>\n",
       "      <td>113275580237259001</td>\n",
       "      <td>16:16:00</td>\n",
       "      <td>16:16:00</td>\n",
       "      <td>3175B</td>\n",
       "      <td>7</td>\n",
       "      <td>0</td>\n",
       "      <td>0</td>\n",
       "    </tr>\n",
       "    <tr>\n",
       "      <th>48</th>\n",
       "      <td>113275581237259001</td>\n",
       "      <td>15:29:00</td>\n",
       "      <td>15:29:00</td>\n",
       "      <td>3175B</td>\n",
       "      <td>7</td>\n",
       "      <td>0</td>\n",
       "      <td>0</td>\n",
       "    </tr>\n",
       "    <tr>\n",
       "      <th>...</th>\n",
       "      <td>...</td>\n",
       "      <td>...</td>\n",
       "      <td>...</td>\n",
       "      <td>...</td>\n",
       "      <td>...</td>\n",
       "      <td>...</td>\n",
       "      <td>...</td>\n",
       "    </tr>\n",
       "    <tr>\n",
       "      <th>1544615</th>\n",
       "      <td>113552071238492000</td>\n",
       "      <td>21:55:31</td>\n",
       "      <td>21:55:31</td>\n",
       "      <td>2671F</td>\n",
       "      <td>14</td>\n",
       "      <td>0</td>\n",
       "      <td>0</td>\n",
       "    </tr>\n",
       "    <tr>\n",
       "      <th>1544618</th>\n",
       "      <td>113552074238492000</td>\n",
       "      <td>23:55:00</td>\n",
       "      <td>23:55:00</td>\n",
       "      <td>5732F</td>\n",
       "      <td>1</td>\n",
       "      <td>0</td>\n",
       "      <td>1</td>\n",
       "    </tr>\n",
       "    <tr>\n",
       "      <th>1544620</th>\n",
       "      <td>113552074238492000</td>\n",
       "      <td>23:56:50</td>\n",
       "      <td>23:56:50</td>\n",
       "      <td>5753F</td>\n",
       "      <td>3</td>\n",
       "      <td>0</td>\n",
       "      <td>0</td>\n",
       "    </tr>\n",
       "    <tr>\n",
       "      <th>1544622</th>\n",
       "      <td>113552074238492000</td>\n",
       "      <td>24:00:00</td>\n",
       "      <td>24:00:00</td>\n",
       "      <td>1258G</td>\n",
       "      <td>5</td>\n",
       "      <td>0</td>\n",
       "      <td>0</td>\n",
       "    </tr>\n",
       "    <tr>\n",
       "      <th>1544623</th>\n",
       "      <td>113552074238492000</td>\n",
       "      <td>24:01:00</td>\n",
       "      <td>24:01:00</td>\n",
       "      <td>5756F</td>\n",
       "      <td>6</td>\n",
       "      <td>0</td>\n",
       "      <td>0</td>\n",
       "    </tr>\n",
       "  </tbody>\n",
       "</table>\n",
       "<p>327665 rows × 7 columns</p>\n",
       "</div>"
      ],
      "text/plain": [
       "                    trip_id arrival_time departure_time stop_id  \\\n",
       "6        113275577237259001     08:58:00       08:58:00   3175B   \n",
       "17       113275578237259001     08:27:00       08:27:00   3175B   \n",
       "28       113275579237259001     08:20:00       08:20:00   3175B   \n",
       "39       113275580237259001     16:16:00       16:16:00   3175B   \n",
       "48       113275581237259001     15:29:00       15:29:00   3175B   \n",
       "...                     ...          ...            ...     ...   \n",
       "1544615  113552071238492000     21:55:31       21:55:31   2671F   \n",
       "1544618  113552074238492000     23:55:00       23:55:00   5732F   \n",
       "1544620  113552074238492000     23:56:50       23:56:50   5753F   \n",
       "1544622  113552074238492000     24:00:00       24:00:00   1258G   \n",
       "1544623  113552074238492000     24:01:00       24:01:00   5756F   \n",
       "\n",
       "         stop_sequence  pickup_type  drop_off_type  \n",
       "6                    7            0              0  \n",
       "17                   7            0              0  \n",
       "28                   7            0              0  \n",
       "39                   7            0              0  \n",
       "48                   7            0              0  \n",
       "...                ...          ...            ...  \n",
       "1544615             14            0              0  \n",
       "1544618              1            0              1  \n",
       "1544620              3            0              0  \n",
       "1544622              5            0              0  \n",
       "1544623              6            0              0  \n",
       "\n",
       "[327665 rows x 7 columns]"
      ]
     },
     "execution_count": 94,
     "metadata": {},
     "output_type": "execute_result"
    }
   ],
   "source": [
    "stop_times[stop_times['stop_id'].str.contains('[a-zA-Z]')]"
   ]
  },
  {
   "cell_type": "markdown",
   "metadata": {},
   "source": [
    "Let's remove the letter from stops"
   ]
  },
  {
   "cell_type": "code",
   "execution_count": 95,
   "metadata": {},
   "outputs": [],
   "source": [
    "stop_times['stop_id'] = stop_times['stop_id'].map(lambda x: int(re.sub('[^0-9]', '', x)))"
   ]
  },
  {
   "cell_type": "markdown",
   "metadata": {},
   "source": [
    "We don't have any duplicates in `stop_times`"
   ]
  },
  {
   "cell_type": "code",
   "execution_count": 96,
   "metadata": {},
   "outputs": [
    {
     "name": "stdout",
     "output_type": "stream",
     "text": [
      "stop_times Before:  10812368\n",
      "stop_times After:  10812368\n"
     ]
    }
   ],
   "source": [
    "print('stop_times Before: ', stop_times.size)\n",
    "stop_times.drop_duplicates(inplace=True)\n",
    "print('stop_times After: ', stop_times.size)"
   ]
  },
  {
   "cell_type": "code",
   "execution_count": 97,
   "metadata": {},
   "outputs": [
    {
     "data": {
      "text/plain": [
       "True"
      ]
     },
     "execution_count": 97,
     "metadata": {},
     "output_type": "execute_result"
    }
   ],
   "source": [
    "stop_times['arrival_time'].equals(stop_times['departure_time'])"
   ]
  },
  {
   "cell_type": "markdown",
   "metadata": {},
   "source": [
    "Since the two columns are equal we can safely drop the `departure_time`"
   ]
  },
  {
   "cell_type": "code",
   "execution_count": 98,
   "metadata": {},
   "outputs": [],
   "source": [
    "stop_times = stop_times[['trip_id','arrival_time','stop_id','stop_sequence']]"
   ]
  },
  {
   "cell_type": "markdown",
   "metadata": {},
   "source": [
    "Some arrival times exceed 24h so they have to be split into time and exceeding days"
   ]
  },
  {
   "cell_type": "code",
   "execution_count": 99,
   "metadata": {},
   "outputs": [
    {
     "data": {
      "text/html": [
       "<div>\n",
       "<style scoped>\n",
       "    .dataframe tbody tr th:only-of-type {\n",
       "        vertical-align: middle;\n",
       "    }\n",
       "\n",
       "    .dataframe tbody tr th {\n",
       "        vertical-align: top;\n",
       "    }\n",
       "\n",
       "    .dataframe thead th {\n",
       "        text-align: right;\n",
       "    }\n",
       "</style>\n",
       "<table border=\"1\" class=\"dataframe\">\n",
       "  <thead>\n",
       "    <tr style=\"text-align: right;\">\n",
       "      <th></th>\n",
       "      <th>trip_id</th>\n",
       "      <th>arrival_time</th>\n",
       "      <th>stop_id</th>\n",
       "      <th>stop_sequence</th>\n",
       "      <th>days</th>\n",
       "    </tr>\n",
       "  </thead>\n",
       "  <tbody>\n",
       "    <tr>\n",
       "      <th>0</th>\n",
       "      <td>113275577237259001</td>\n",
       "      <td>8:52:00</td>\n",
       "      <td>3107</td>\n",
       "      <td>1</td>\n",
       "      <td>0</td>\n",
       "    </tr>\n",
       "    <tr>\n",
       "      <th>1</th>\n",
       "      <td>113275577237259001</td>\n",
       "      <td>8:53:00</td>\n",
       "      <td>3177</td>\n",
       "      <td>2</td>\n",
       "      <td>0</td>\n",
       "    </tr>\n",
       "    <tr>\n",
       "      <th>2</th>\n",
       "      <td>113275577237259001</td>\n",
       "      <td>8:54:03</td>\n",
       "      <td>3171</td>\n",
       "      <td>3</td>\n",
       "      <td>0</td>\n",
       "    </tr>\n",
       "    <tr>\n",
       "      <th>3</th>\n",
       "      <td>113275577237259001</td>\n",
       "      <td>8:55:30</td>\n",
       "      <td>3172</td>\n",
       "      <td>4</td>\n",
       "      <td>0</td>\n",
       "    </tr>\n",
       "    <tr>\n",
       "      <th>4</th>\n",
       "      <td>113275577237259001</td>\n",
       "      <td>8:56:18</td>\n",
       "      <td>3173</td>\n",
       "      <td>5</td>\n",
       "      <td>0</td>\n",
       "    </tr>\n",
       "    <tr>\n",
       "      <th>...</th>\n",
       "      <td>...</td>\n",
       "      <td>...</td>\n",
       "      <td>...</td>\n",
       "      <td>...</td>\n",
       "      <td>...</td>\n",
       "    </tr>\n",
       "    <tr>\n",
       "      <th>1060</th>\n",
       "      <td>113275689237259001</td>\n",
       "      <td>0:50:00</td>\n",
       "      <td>1780</td>\n",
       "      <td>1</td>\n",
       "      <td>1</td>\n",
       "    </tr>\n",
       "    <tr>\n",
       "      <th>1061</th>\n",
       "      <td>113275689237259001</td>\n",
       "      <td>0:51:00</td>\n",
       "      <td>6433</td>\n",
       "      <td>2</td>\n",
       "      <td>1</td>\n",
       "    </tr>\n",
       "    <tr>\n",
       "      <th>1062</th>\n",
       "      <td>113275689237259001</td>\n",
       "      <td>0:53:00</td>\n",
       "      <td>1262</td>\n",
       "      <td>3</td>\n",
       "      <td>1</td>\n",
       "    </tr>\n",
       "    <tr>\n",
       "      <th>1063</th>\n",
       "      <td>113275689237259001</td>\n",
       "      <td>0:54:00</td>\n",
       "      <td>1132</td>\n",
       "      <td>4</td>\n",
       "      <td>1</td>\n",
       "    </tr>\n",
       "    <tr>\n",
       "      <th>1064</th>\n",
       "      <td>113275689237259001</td>\n",
       "      <td>0:54:54</td>\n",
       "      <td>1133</td>\n",
       "      <td>5</td>\n",
       "      <td>1</td>\n",
       "    </tr>\n",
       "  </tbody>\n",
       "</table>\n",
       "<p>1065 rows × 5 columns</p>\n",
       "</div>"
      ],
      "text/plain": [
       "                 trip_id arrival_time  stop_id  stop_sequence  days\n",
       "0     113275577237259001      8:52:00     3107              1     0\n",
       "1     113275577237259001      8:53:00     3177              2     0\n",
       "2     113275577237259001      8:54:03     3171              3     0\n",
       "3     113275577237259001      8:55:30     3172              4     0\n",
       "4     113275577237259001      8:56:18     3173              5     0\n",
       "...                  ...          ...      ...            ...   ...\n",
       "1060  113275689237259001      0:50:00     1780              1     1\n",
       "1061  113275689237259001      0:51:00     6433              2     1\n",
       "1062  113275689237259001      0:53:00     1262              3     1\n",
       "1063  113275689237259001      0:54:00     1132              4     1\n",
       "1064  113275689237259001      0:54:54     1133              5     1\n",
       "\n",
       "[1065 rows x 5 columns]"
      ]
     },
     "execution_count": 99,
     "metadata": {},
     "output_type": "execute_result"
    }
   ],
   "source": [
    "def hours_minutes_seconds(td):\n",
    "    hours = td.seconds//3600\n",
    "    minutes = (td.seconds//60)%60\n",
    "    seconds = td.seconds % 60\n",
    "    return \"%d:%02d:%02d\" % (hours, minutes, seconds)\n",
    "\n",
    "stop_times['arrival_time'] = pd.to_timedelta(stop_times['arrival_time'])\n",
    "stop_times['next_day'] = stop_times['arrival_time'].dt.days\n",
    "stop_times['arrival_time'] = stop_times['arrival_time'].apply(lambda x: hours_minutes_seconds(x))\n",
    "stop_times.head(1065)"
   ]
  },
  {
   "cell_type": "markdown",
   "metadata": {},
   "source": [
    "### 2.4) Preprocessing `calendar`"
   ]
  },
  {
   "cell_type": "code",
   "execution_count": 22,
   "metadata": {},
   "outputs": [
    {
     "data": {
      "text/html": [
       "<div>\n",
       "<style scoped>\n",
       "    .dataframe tbody tr th:only-of-type {\n",
       "        vertical-align: middle;\n",
       "    }\n",
       "\n",
       "    .dataframe tbody tr th {\n",
       "        vertical-align: top;\n",
       "    }\n",
       "\n",
       "    .dataframe thead th {\n",
       "        text-align: right;\n",
       "    }\n",
       "</style>\n",
       "<table border=\"1\" class=\"dataframe\">\n",
       "  <thead>\n",
       "    <tr style=\"text-align: right;\">\n",
       "      <th></th>\n",
       "      <th>service_id</th>\n",
       "      <th>monday</th>\n",
       "      <th>tuesday</th>\n",
       "      <th>wednesday</th>\n",
       "      <th>thursday</th>\n",
       "      <th>friday</th>\n",
       "      <th>saturday</th>\n",
       "      <th>sunday</th>\n",
       "      <th>start_date</th>\n",
       "      <th>end_date</th>\n",
       "    </tr>\n",
       "  </thead>\n",
       "  <tbody>\n",
       "    <tr>\n",
       "      <th>0</th>\n",
       "      <td>238687005</td>\n",
       "      <td>1</td>\n",
       "      <td>1</td>\n",
       "      <td>1</td>\n",
       "      <td>1</td>\n",
       "      <td>1</td>\n",
       "      <td>0</td>\n",
       "      <td>0</td>\n",
       "      <td>20210920</td>\n",
       "      <td>20211014</td>\n",
       "    </tr>\n",
       "    <tr>\n",
       "      <th>1</th>\n",
       "      <td>238689505</td>\n",
       "      <td>0</td>\n",
       "      <td>0</td>\n",
       "      <td>0</td>\n",
       "      <td>0</td>\n",
       "      <td>0</td>\n",
       "      <td>1</td>\n",
       "      <td>0</td>\n",
       "      <td>20210925</td>\n",
       "      <td>20211002</td>\n",
       "    </tr>\n",
       "    <tr>\n",
       "      <th>2</th>\n",
       "      <td>238691605</td>\n",
       "      <td>0</td>\n",
       "      <td>0</td>\n",
       "      <td>0</td>\n",
       "      <td>0</td>\n",
       "      <td>0</td>\n",
       "      <td>0</td>\n",
       "      <td>1</td>\n",
       "      <td>20210926</td>\n",
       "      <td>20211010</td>\n",
       "    </tr>\n",
       "    <tr>\n",
       "      <th>3</th>\n",
       "      <td>238712503</td>\n",
       "      <td>0</td>\n",
       "      <td>0</td>\n",
       "      <td>0</td>\n",
       "      <td>0</td>\n",
       "      <td>0</td>\n",
       "      <td>1</td>\n",
       "      <td>0</td>\n",
       "      <td>20211009</td>\n",
       "      <td>20211009</td>\n",
       "    </tr>\n",
       "    <tr>\n",
       "      <th>4</th>\n",
       "      <td>238683002</td>\n",
       "      <td>1</td>\n",
       "      <td>1</td>\n",
       "      <td>1</td>\n",
       "      <td>1</td>\n",
       "      <td>1</td>\n",
       "      <td>0</td>\n",
       "      <td>0</td>\n",
       "      <td>20211015</td>\n",
       "      <td>20211015</td>\n",
       "    </tr>\n",
       "  </tbody>\n",
       "</table>\n",
       "</div>"
      ],
      "text/plain": [
       "   service_id  monday  tuesday  wednesday  thursday  friday  saturday  sunday  \\\n",
       "0   238687005       1        1          1         1       1         0       0   \n",
       "1   238689505       0        0          0         0       0         1       0   \n",
       "2   238691605       0        0          0         0       0         0       1   \n",
       "3   238712503       0        0          0         0       0         1       0   \n",
       "4   238683002       1        1          1         1       1         0       0   \n",
       "\n",
       "   start_date  end_date  \n",
       "0    20210920  20211014  \n",
       "1    20210925  20211002  \n",
       "2    20210926  20211010  \n",
       "3    20211009  20211009  \n",
       "4    20211015  20211015  "
      ]
     },
     "execution_count": 22,
     "metadata": {},
     "output_type": "execute_result"
    }
   ],
   "source": [
    "calendar.head(5)"
   ]
  },
  {
   "cell_type": "markdown",
   "metadata": {},
   "source": [
    "Check if the week day columns are equal in whole dataset"
   ]
  },
  {
   "cell_type": "code",
   "execution_count": 23,
   "metadata": {},
   "outputs": [
    {
     "data": {
      "text/plain": [
       "True"
      ]
     },
     "execution_count": 23,
     "metadata": {},
     "output_type": "execute_result"
    }
   ],
   "source": [
    "calendar['monday'].equals(calendar['tuesday']) and calendar['monday'].equals(calendar['wednesday']) and calendar['monday'].equals(calendar['thursday']) and calendar['monday'].equals(calendar['friday'])"
   ]
  },
  {
   "cell_type": "markdown",
   "metadata": {},
   "source": [
    "Since all the columns in weekdays are equal we can merge them into single column"
   ]
  },
  {
   "cell_type": "code",
   "execution_count": 24,
   "metadata": {},
   "outputs": [],
   "source": [
    "calendar['day'] = calendar.apply(lambda x: 0 if x.monday else 1 if x.saturday else 2 if x.sunday else -1 , axis=1)\n",
    "calendar.drop(['monday','tuesday','wednesday','thursday','friday','saturday','sunday'], axis=1, inplace=True)"
   ]
  },
  {
   "cell_type": "markdown",
   "metadata": {},
   "source": [
    "Let's make sure we don't have an exceptional value e.g. -1"
   ]
  },
  {
   "cell_type": "code",
   "execution_count": 25,
   "metadata": {},
   "outputs": [
    {
     "data": {
      "text/html": [
       "<div>\n",
       "<style scoped>\n",
       "    .dataframe tbody tr th:only-of-type {\n",
       "        vertical-align: middle;\n",
       "    }\n",
       "\n",
       "    .dataframe tbody tr th {\n",
       "        vertical-align: top;\n",
       "    }\n",
       "\n",
       "    .dataframe thead th {\n",
       "        text-align: right;\n",
       "    }\n",
       "</style>\n",
       "<table border=\"1\" class=\"dataframe\">\n",
       "  <thead>\n",
       "    <tr style=\"text-align: right;\">\n",
       "      <th></th>\n",
       "      <th>service_id</th>\n",
       "      <th>start_date</th>\n",
       "      <th>end_date</th>\n",
       "      <th>day</th>\n",
       "    </tr>\n",
       "  </thead>\n",
       "  <tbody>\n",
       "  </tbody>\n",
       "</table>\n",
       "</div>"
      ],
      "text/plain": [
       "Empty DataFrame\n",
       "Columns: [service_id, start_date, end_date, day]\n",
       "Index: []"
      ]
     },
     "execution_count": 25,
     "metadata": {},
     "output_type": "execute_result"
    }
   ],
   "source": [
    "calendar[calendar['day'] == -1]"
   ]
  },
  {
   "cell_type": "code",
   "execution_count": 26,
   "metadata": {},
   "outputs": [
    {
     "data": {
      "text/html": [
       "<div>\n",
       "<style scoped>\n",
       "    .dataframe tbody tr th:only-of-type {\n",
       "        vertical-align: middle;\n",
       "    }\n",
       "\n",
       "    .dataframe tbody tr th {\n",
       "        vertical-align: top;\n",
       "    }\n",
       "\n",
       "    .dataframe thead th {\n",
       "        text-align: right;\n",
       "    }\n",
       "</style>\n",
       "<table border=\"1\" class=\"dataframe\">\n",
       "  <thead>\n",
       "    <tr style=\"text-align: right;\">\n",
       "      <th></th>\n",
       "      <th>service_id</th>\n",
       "      <th>start_date</th>\n",
       "      <th>end_date</th>\n",
       "      <th>day</th>\n",
       "    </tr>\n",
       "  </thead>\n",
       "  <tbody>\n",
       "    <tr>\n",
       "      <th>0</th>\n",
       "      <td>238687005</td>\n",
       "      <td>20210920</td>\n",
       "      <td>20211014</td>\n",
       "      <td>0</td>\n",
       "    </tr>\n",
       "    <tr>\n",
       "      <th>1</th>\n",
       "      <td>238689505</td>\n",
       "      <td>20210925</td>\n",
       "      <td>20211002</td>\n",
       "      <td>1</td>\n",
       "    </tr>\n",
       "    <tr>\n",
       "      <th>2</th>\n",
       "      <td>238691605</td>\n",
       "      <td>20210926</td>\n",
       "      <td>20211010</td>\n",
       "      <td>2</td>\n",
       "    </tr>\n",
       "    <tr>\n",
       "      <th>3</th>\n",
       "      <td>238712503</td>\n",
       "      <td>20211009</td>\n",
       "      <td>20211009</td>\n",
       "      <td>1</td>\n",
       "    </tr>\n",
       "    <tr>\n",
       "      <th>4</th>\n",
       "      <td>238683002</td>\n",
       "      <td>20211015</td>\n",
       "      <td>20211015</td>\n",
       "      <td>0</td>\n",
       "    </tr>\n",
       "  </tbody>\n",
       "</table>\n",
       "</div>"
      ],
      "text/plain": [
       "   service_id  start_date  end_date  day\n",
       "0   238687005    20210920  20211014    0\n",
       "1   238689505    20210925  20211002    1\n",
       "2   238691605    20210926  20211010    2\n",
       "3   238712503    20211009  20211009    1\n",
       "4   238683002    20211015  20211015    0"
      ]
     },
     "execution_count": 26,
     "metadata": {},
     "output_type": "execute_result"
    }
   ],
   "source": [
    "calendar.head(5)"
   ]
  },
  {
   "cell_type": "markdown",
   "metadata": {},
   "source": [
    "### 2.5) Preprocessing `routes`"
   ]
  },
  {
   "cell_type": "code",
   "execution_count": 27,
   "metadata": {},
   "outputs": [
    {
     "data": {
      "text/html": [
       "<div>\n",
       "<style scoped>\n",
       "    .dataframe tbody tr th:only-of-type {\n",
       "        vertical-align: middle;\n",
       "    }\n",
       "\n",
       "    .dataframe tbody tr th {\n",
       "        vertical-align: top;\n",
       "    }\n",
       "\n",
       "    .dataframe thead th {\n",
       "        text-align: right;\n",
       "    }\n",
       "</style>\n",
       "<table border=\"1\" class=\"dataframe\">\n",
       "  <thead>\n",
       "    <tr style=\"text-align: right;\">\n",
       "      <th></th>\n",
       "      <th>route_id</th>\n",
       "      <th>route_short_name</th>\n",
       "      <th>route_long_name</th>\n",
       "      <th>route_desc</th>\n",
       "      <th>route_type</th>\n",
       "      <th>route_url</th>\n",
       "      <th>route_color</th>\n",
       "      <th>route_text_color</th>\n",
       "    </tr>\n",
       "  </thead>\n",
       "  <tbody>\n",
       "    <tr>\n",
       "      <th>0</th>\n",
       "      <td>1</td>\n",
       "      <td>1</td>\n",
       "      <td>GARE DE L'OUEST - STOCKEL</td>\n",
       "      <td>NaN</td>\n",
       "      <td>1</td>\n",
       "      <td>NaN</td>\n",
       "      <td>B5378C</td>\n",
       "      <td>FFFFFF</td>\n",
       "    </tr>\n",
       "    <tr>\n",
       "      <th>1</th>\n",
       "      <td>4</td>\n",
       "      <td>2</td>\n",
       "      <td>SIMONIS - ELISABETH</td>\n",
       "      <td>NaN</td>\n",
       "      <td>1</td>\n",
       "      <td>NaN</td>\n",
       "      <td>ED6C23</td>\n",
       "      <td>FFFFFF</td>\n",
       "    </tr>\n",
       "    <tr>\n",
       "      <th>2</th>\n",
       "      <td>5</td>\n",
       "      <td>3</td>\n",
       "      <td>ESPLANADE - CHURCHILL</td>\n",
       "      <td>NaN</td>\n",
       "      <td>0</td>\n",
       "      <td>NaN</td>\n",
       "      <td>B4BD10</td>\n",
       "      <td>000000</td>\n",
       "    </tr>\n",
       "    <tr>\n",
       "      <th>3</th>\n",
       "      <td>8</td>\n",
       "      <td>4</td>\n",
       "      <td>GARE DU NORD - STALLE (P)</td>\n",
       "      <td>NaN</td>\n",
       "      <td>0</td>\n",
       "      <td>NaN</td>\n",
       "      <td>EA4F80</td>\n",
       "      <td>000000</td>\n",
       "    </tr>\n",
       "    <tr>\n",
       "      <th>4</th>\n",
       "      <td>2</td>\n",
       "      <td>5</td>\n",
       "      <td>ERASME - HERRMANN-DEBROUX</td>\n",
       "      <td>NaN</td>\n",
       "      <td>1</td>\n",
       "      <td>NaN</td>\n",
       "      <td>F6A90B</td>\n",
       "      <td>FFFFFF</td>\n",
       "    </tr>\n",
       "  </tbody>\n",
       "</table>\n",
       "</div>"
      ],
      "text/plain": [
       "   route_id route_short_name            route_long_name  route_desc  \\\n",
       "0         1                1  GARE DE L'OUEST - STOCKEL         NaN   \n",
       "1         4                2        SIMONIS - ELISABETH         NaN   \n",
       "2         5                3      ESPLANADE - CHURCHILL         NaN   \n",
       "3         8                4  GARE DU NORD - STALLE (P)         NaN   \n",
       "4         2                5  ERASME - HERRMANN-DEBROUX         NaN   \n",
       "\n",
       "   route_type  route_url route_color route_text_color  \n",
       "0           1        NaN      B5378C           FFFFFF  \n",
       "1           1        NaN      ED6C23           FFFFFF  \n",
       "2           0        NaN      B4BD10           000000  \n",
       "3           0        NaN      EA4F80           000000  \n",
       "4           1        NaN      F6A90B           FFFFFF  "
      ]
     },
     "execution_count": 27,
     "metadata": {},
     "output_type": "execute_result"
    }
   ],
   "source": [
    "routes.head(5)"
   ]
  },
  {
   "cell_type": "code",
   "execution_count": 28,
   "metadata": {},
   "outputs": [],
   "source": [
    "routes = routes[['route_id','route_short_name']]"
   ]
  },
  {
   "cell_type": "markdown",
   "metadata": {},
   "source": [
    "### 2.6) Preprocessing `trips`"
   ]
  },
  {
   "cell_type": "code",
   "execution_count": 29,
   "metadata": {},
   "outputs": [
    {
     "data": {
      "text/html": [
       "<div>\n",
       "<style scoped>\n",
       "    .dataframe tbody tr th:only-of-type {\n",
       "        vertical-align: middle;\n",
       "    }\n",
       "\n",
       "    .dataframe tbody tr th {\n",
       "        vertical-align: top;\n",
       "    }\n",
       "\n",
       "    .dataframe thead th {\n",
       "        text-align: right;\n",
       "    }\n",
       "</style>\n",
       "<table border=\"1\" class=\"dataframe\">\n",
       "  <thead>\n",
       "    <tr style=\"text-align: right;\">\n",
       "      <th></th>\n",
       "      <th>route_id</th>\n",
       "      <th>service_id</th>\n",
       "      <th>trip_id</th>\n",
       "      <th>trip_headsign</th>\n",
       "      <th>direction_id</th>\n",
       "      <th>block_id</th>\n",
       "      <th>shape_id</th>\n",
       "    </tr>\n",
       "  </thead>\n",
       "  <tbody>\n",
       "    <tr>\n",
       "      <th>0</th>\n",
       "      <td>14</td>\n",
       "      <td>237259001</td>\n",
       "      <td>113275577237259001</td>\n",
       "      <td>JULES BORDET</td>\n",
       "      <td>0</td>\n",
       "      <td>8934823</td>\n",
       "      <td>069b0002</td>\n",
       "    </tr>\n",
       "    <tr>\n",
       "      <th>1</th>\n",
       "      <td>14</td>\n",
       "      <td>237259001</td>\n",
       "      <td>113275578237259001</td>\n",
       "      <td>JULES BORDET</td>\n",
       "      <td>0</td>\n",
       "      <td>8934827</td>\n",
       "      <td>069b0002</td>\n",
       "    </tr>\n",
       "    <tr>\n",
       "      <th>2</th>\n",
       "      <td>14</td>\n",
       "      <td>237259001</td>\n",
       "      <td>113275579237259001</td>\n",
       "      <td>JULES BORDET</td>\n",
       "      <td>0</td>\n",
       "      <td>8934823</td>\n",
       "      <td>069b0002</td>\n",
       "    </tr>\n",
       "    <tr>\n",
       "      <th>3</th>\n",
       "      <td>14</td>\n",
       "      <td>237259001</td>\n",
       "      <td>113275580237259001</td>\n",
       "      <td>BORDET STATION</td>\n",
       "      <td>0</td>\n",
       "      <td>8934822</td>\n",
       "      <td>069b0005</td>\n",
       "    </tr>\n",
       "    <tr>\n",
       "      <th>4</th>\n",
       "      <td>14</td>\n",
       "      <td>237259001</td>\n",
       "      <td>113275581237259001</td>\n",
       "      <td>JULES BORDET</td>\n",
       "      <td>0</td>\n",
       "      <td>8934826</td>\n",
       "      <td>069b0002</td>\n",
       "    </tr>\n",
       "  </tbody>\n",
       "</table>\n",
       "</div>"
      ],
      "text/plain": [
       "   route_id  service_id             trip_id   trip_headsign  direction_id  \\\n",
       "0        14   237259001  113275577237259001    JULES BORDET             0   \n",
       "1        14   237259001  113275578237259001    JULES BORDET             0   \n",
       "2        14   237259001  113275579237259001    JULES BORDET             0   \n",
       "3        14   237259001  113275580237259001  BORDET STATION             0   \n",
       "4        14   237259001  113275581237259001    JULES BORDET             0   \n",
       "\n",
       "   block_id  shape_id  \n",
       "0   8934823  069b0002  \n",
       "1   8934827  069b0002  \n",
       "2   8934823  069b0002  \n",
       "3   8934822  069b0005  \n",
       "4   8934826  069b0002  "
      ]
     },
     "execution_count": 29,
     "metadata": {},
     "output_type": "execute_result"
    }
   ],
   "source": [
    "trips.head(5)"
   ]
  },
  {
   "cell_type": "code",
   "execution_count": 30,
   "metadata": {},
   "outputs": [],
   "source": [
    "trips = trips[['route_id','service_id','trip_id','trip_headsign','direction_id']]"
   ]
  },
  {
   "cell_type": "markdown",
   "metadata": {},
   "source": [
    "### 2.7) Saving the processed GTFS"
   ]
  },
  {
   "cell_type": "code",
   "execution_count": null,
   "metadata": {},
   "outputs": [],
   "source": [
    "stops.to_csv('stops_processed.csv', index=False)\n",
    "stop_times.to_csv('stop_times_processed.csv', index=False)\n",
    "calendar.to_csv('calendar_processed.csv', index=False)\n",
    "calendar_dates.to_csv('calendar_dates_processed.csv', index=False)\n",
    "routes.to_csv('routes_processed.csv', index=False)\n",
    "trips.to_csv('trips_processed.csv', index=False)"
   ]
  },
  {
   "cell_type": "markdown",
   "metadata": {},
   "source": [
    "### 2.8) Merging GTFS "
   ]
  },
  {
   "cell_type": "code",
   "execution_count": 31,
   "metadata": {},
   "outputs": [],
   "source": [
    "joined_trips = trips.merge(stop_times, on='trip_id', how='inner')\\\n",
    "                    .merge(calendar, on='service_id', how='inner')\\\n",
    "                    .merge(stops, on='stop_id', how='inner')\\\n",
    "                    .merge(routes, on='route_id', how='inner')"
   ]
  },
  {
   "cell_type": "code",
   "execution_count": 32,
   "metadata": {},
   "outputs": [
    {
     "data": {
      "text/html": [
       "<div>\n",
       "<style scoped>\n",
       "    .dataframe tbody tr th:only-of-type {\n",
       "        vertical-align: middle;\n",
       "    }\n",
       "\n",
       "    .dataframe tbody tr th {\n",
       "        vertical-align: top;\n",
       "    }\n",
       "\n",
       "    .dataframe thead th {\n",
       "        text-align: right;\n",
       "    }\n",
       "</style>\n",
       "<table border=\"1\" class=\"dataframe\">\n",
       "  <thead>\n",
       "    <tr style=\"text-align: right;\">\n",
       "      <th></th>\n",
       "      <th>route_id</th>\n",
       "      <th>service_id</th>\n",
       "      <th>trip_id</th>\n",
       "      <th>trip_headsign</th>\n",
       "      <th>direction_id</th>\n",
       "      <th>arrival_time</th>\n",
       "      <th>stop_id</th>\n",
       "      <th>stop_sequence</th>\n",
       "      <th>start_date</th>\n",
       "      <th>end_date</th>\n",
       "      <th>day</th>\n",
       "      <th>stop_name</th>\n",
       "      <th>stop_lat</th>\n",
       "      <th>stop_lon</th>\n",
       "      <th>route_short_name</th>\n",
       "    </tr>\n",
       "  </thead>\n",
       "  <tbody>\n",
       "    <tr>\n",
       "      <th>0</th>\n",
       "      <td>14</td>\n",
       "      <td>237259001</td>\n",
       "      <td>113275577237259001</td>\n",
       "      <td>JULES BORDET</td>\n",
       "      <td>0</td>\n",
       "      <td>08:52:00</td>\n",
       "      <td>3107</td>\n",
       "      <td>1</td>\n",
       "      <td>20210920</td>\n",
       "      <td>20211015</td>\n",
       "      <td>0</td>\n",
       "      <td>SCHAERBEEK GARE</td>\n",
       "      <td>50.877636</td>\n",
       "      <td>4.379054</td>\n",
       "      <td>69</td>\n",
       "    </tr>\n",
       "    <tr>\n",
       "      <th>1</th>\n",
       "      <td>14</td>\n",
       "      <td>237259001</td>\n",
       "      <td>113275578237259001</td>\n",
       "      <td>JULES BORDET</td>\n",
       "      <td>0</td>\n",
       "      <td>08:21:00</td>\n",
       "      <td>3107</td>\n",
       "      <td>1</td>\n",
       "      <td>20210920</td>\n",
       "      <td>20211015</td>\n",
       "      <td>0</td>\n",
       "      <td>SCHAERBEEK GARE</td>\n",
       "      <td>50.877636</td>\n",
       "      <td>4.379054</td>\n",
       "      <td>69</td>\n",
       "    </tr>\n",
       "    <tr>\n",
       "      <th>2</th>\n",
       "      <td>14</td>\n",
       "      <td>237259001</td>\n",
       "      <td>113275579237259001</td>\n",
       "      <td>JULES BORDET</td>\n",
       "      <td>0</td>\n",
       "      <td>08:14:00</td>\n",
       "      <td>3107</td>\n",
       "      <td>1</td>\n",
       "      <td>20210920</td>\n",
       "      <td>20211015</td>\n",
       "      <td>0</td>\n",
       "      <td>SCHAERBEEK GARE</td>\n",
       "      <td>50.877636</td>\n",
       "      <td>4.379054</td>\n",
       "      <td>69</td>\n",
       "    </tr>\n",
       "    <tr>\n",
       "      <th>3</th>\n",
       "      <td>14</td>\n",
       "      <td>237259001</td>\n",
       "      <td>113275580237259001</td>\n",
       "      <td>BORDET STATION</td>\n",
       "      <td>0</td>\n",
       "      <td>16:10:00</td>\n",
       "      <td>3107</td>\n",
       "      <td>1</td>\n",
       "      <td>20210920</td>\n",
       "      <td>20211015</td>\n",
       "      <td>0</td>\n",
       "      <td>SCHAERBEEK GARE</td>\n",
       "      <td>50.877636</td>\n",
       "      <td>4.379054</td>\n",
       "      <td>69</td>\n",
       "    </tr>\n",
       "    <tr>\n",
       "      <th>4</th>\n",
       "      <td>14</td>\n",
       "      <td>237259001</td>\n",
       "      <td>113275581237259001</td>\n",
       "      <td>JULES BORDET</td>\n",
       "      <td>0</td>\n",
       "      <td>15:23:00</td>\n",
       "      <td>3107</td>\n",
       "      <td>1</td>\n",
       "      <td>20210920</td>\n",
       "      <td>20211015</td>\n",
       "      <td>0</td>\n",
       "      <td>SCHAERBEEK GARE</td>\n",
       "      <td>50.877636</td>\n",
       "      <td>4.379054</td>\n",
       "      <td>69</td>\n",
       "    </tr>\n",
       "  </tbody>\n",
       "</table>\n",
       "</div>"
      ],
      "text/plain": [
       "   route_id  service_id             trip_id   trip_headsign  direction_id  \\\n",
       "0        14   237259001  113275577237259001    JULES BORDET             0   \n",
       "1        14   237259001  113275578237259001    JULES BORDET             0   \n",
       "2        14   237259001  113275579237259001    JULES BORDET             0   \n",
       "3        14   237259001  113275580237259001  BORDET STATION             0   \n",
       "4        14   237259001  113275581237259001    JULES BORDET             0   \n",
       "\n",
       "  arrival_time  stop_id  stop_sequence  start_date  end_date  day  \\\n",
       "0     08:52:00     3107              1    20210920  20211015    0   \n",
       "1     08:21:00     3107              1    20210920  20211015    0   \n",
       "2     08:14:00     3107              1    20210920  20211015    0   \n",
       "3     16:10:00     3107              1    20210920  20211015    0   \n",
       "4     15:23:00     3107              1    20210920  20211015    0   \n",
       "\n",
       "         stop_name   stop_lat  stop_lon route_short_name  \n",
       "0  SCHAERBEEK GARE  50.877636  4.379054               69  \n",
       "1  SCHAERBEEK GARE  50.877636  4.379054               69  \n",
       "2  SCHAERBEEK GARE  50.877636  4.379054               69  \n",
       "3  SCHAERBEEK GARE  50.877636  4.379054               69  \n",
       "4  SCHAERBEEK GARE  50.877636  4.379054               69  "
      ]
     },
     "execution_count": 32,
     "metadata": {},
     "output_type": "execute_result"
    }
   ],
   "source": [
    "joined_trips.head(5)"
   ]
  },
  {
   "cell_type": "code",
   "execution_count": 33,
   "metadata": {},
   "outputs": [],
   "source": [
    "joined_trips.to_csv('gtfs_merged.csv', index=False)"
   ]
  },
  {
   "cell_type": "markdown",
   "metadata": {},
   "source": [
    "## 3) Processing GTFS-Sep3 tabular data"
   ]
  },
  {
   "cell_type": "markdown",
   "metadata": {},
   "source": [
    "Changing the directory to gtfs3Sept and repeating all the steps from 2.1 onward"
   ]
  },
  {
   "cell_type": "code",
   "execution_count": 57,
   "metadata": {},
   "outputs": [],
   "source": [
    "gtfs_dir = os.path.join(data_dir, 'gtfs3Sept')\n",
    "os.chdir(gtfs_dir)"
   ]
  },
  {
   "cell_type": "markdown",
   "metadata": {},
   "source": [
    "## 4) Preprocessing `vehiclePosition`"
   ]
  },
  {
   "cell_type": "code",
   "execution_count": 45,
   "metadata": {},
   "outputs": [],
   "source": [
    "os.chdir(data_dir)\n",
    "gps_track = pd.read_csv('gps_track.csv', low_memory=False)"
   ]
  },
  {
   "cell_type": "code",
   "execution_count": 46,
   "metadata": {},
   "outputs": [
    {
     "data": {
      "text/html": [
       "<div>\n",
       "<style scoped>\n",
       "    .dataframe tbody tr th:only-of-type {\n",
       "        vertical-align: middle;\n",
       "    }\n",
       "\n",
       "    .dataframe tbody tr th {\n",
       "        vertical-align: top;\n",
       "    }\n",
       "\n",
       "    .dataframe thead th {\n",
       "        text-align: right;\n",
       "    }\n",
       "</style>\n",
       "<table border=\"1\" class=\"dataframe\">\n",
       "  <thead>\n",
       "    <tr style=\"text-align: right;\">\n",
       "      <th></th>\n",
       "      <th>time</th>\n",
       "      <th>lineId</th>\n",
       "      <th>directionId</th>\n",
       "      <th>distanceFromPoint</th>\n",
       "      <th>pointId</th>\n",
       "    </tr>\n",
       "  </thead>\n",
       "  <tbody>\n",
       "    <tr>\n",
       "      <th>0</th>\n",
       "      <td>1631177627260</td>\n",
       "      <td>1.0</td>\n",
       "      <td>8161.0</td>\n",
       "      <td>0.0</td>\n",
       "      <td>8012.0</td>\n",
       "    </tr>\n",
       "    <tr>\n",
       "      <th>1</th>\n",
       "      <td>1631177627260</td>\n",
       "      <td>1.0</td>\n",
       "      <td>8162.0</td>\n",
       "      <td>0.0</td>\n",
       "      <td>8162.0</td>\n",
       "    </tr>\n",
       "    <tr>\n",
       "      <th>2</th>\n",
       "      <td>1631177627260</td>\n",
       "      <td>1.0</td>\n",
       "      <td>8161.0</td>\n",
       "      <td>0.0</td>\n",
       "      <td>8733.0</td>\n",
       "    </tr>\n",
       "  </tbody>\n",
       "</table>\n",
       "</div>"
      ],
      "text/plain": [
       "            time  lineId  directionId  distanceFromPoint  pointId\n",
       "0  1631177627260     1.0       8161.0                0.0   8012.0\n",
       "1  1631177627260     1.0       8162.0                0.0   8162.0\n",
       "2  1631177627260     1.0       8161.0                0.0   8733.0"
      ]
     },
     "execution_count": 46,
     "metadata": {},
     "output_type": "execute_result"
    }
   ],
   "source": [
    "gps_track.head(3)"
   ]
  },
  {
   "cell_type": "markdown",
   "metadata": {},
   "source": [
    "### 3.1) Preprocessing `lineId` column"
   ]
  },
  {
   "cell_type": "markdown",
   "metadata": {},
   "source": [
    "Let's proceed by looking at missing values namely `NA` in `lineId` field"
   ]
  },
  {
   "cell_type": "code",
   "execution_count": 47,
   "metadata": {},
   "outputs": [
    {
     "data": {
      "text/plain": [
       "'Nulls: 52831, Total: 97373570, Percentage: 0.0005425599574915452'"
      ]
     },
     "execution_count": 47,
     "metadata": {},
     "output_type": "execute_result"
    }
   ],
   "source": [
    "line_nas = gps_track.lineId.isna().sum()\n",
    "total_lines = gps_track.size\n",
    "\"Nulls: {}, Total: {}, Percentage: {}\".format(line_nas, total_lines, line_nas/total_lines)"
   ]
  },
  {
   "cell_type": "code",
   "execution_count": 48,
   "metadata": {},
   "outputs": [
    {
     "data": {
      "text/plain": [
       "time                     0\n",
       "lineId               52831\n",
       "directionId          52831\n",
       "distanceFromPoint    52831\n",
       "pointId              52831\n",
       "dtype: int64"
      ]
     },
     "execution_count": 48,
     "metadata": {},
     "output_type": "execute_result"
    }
   ],
   "source": [
    "gps_track.isnull().sum()"
   ]
  },
  {
   "cell_type": "code",
   "execution_count": 49,
   "metadata": {},
   "outputs": [
    {
     "name": "stdout",
     "output_type": "stream",
     "text": [
      "Deleted 264155, Before 97373570, After 97109415\n"
     ]
    }
   ],
   "source": [
    "before = gps_track.size\n",
    "gps_track.dropna(inplace=True)\n",
    "after = gps_track.size\n",
    "print(\"Deleted {}, Before {}, After {}\".format(before - after, before, after))"
   ]
  },
  {
   "cell_type": "markdown",
   "metadata": {},
   "source": [
    "Almost 0.27% of data has been removed"
   ]
  },
  {
   "cell_type": "code",
   "execution_count": 50,
   "metadata": {},
   "outputs": [],
   "source": [
    "gps_track.rename(columns={'time': 'timestamp'}, inplace=True)"
   ]
  },
  {
   "cell_type": "code",
   "execution_count": 51,
   "metadata": {},
   "outputs": [
    {
     "data": {
      "text/html": [
       "<div>\n",
       "<style scoped>\n",
       "    .dataframe tbody tr th:only-of-type {\n",
       "        vertical-align: middle;\n",
       "    }\n",
       "\n",
       "    .dataframe tbody tr th {\n",
       "        vertical-align: top;\n",
       "    }\n",
       "\n",
       "    .dataframe thead th {\n",
       "        text-align: right;\n",
       "    }\n",
       "</style>\n",
       "<table border=\"1\" class=\"dataframe\">\n",
       "  <thead>\n",
       "    <tr style=\"text-align: right;\">\n",
       "      <th></th>\n",
       "      <th>timestamp</th>\n",
       "      <th>lineId</th>\n",
       "      <th>directionId</th>\n",
       "      <th>distanceFromPoint</th>\n",
       "      <th>pointId</th>\n",
       "    </tr>\n",
       "  </thead>\n",
       "  <tbody>\n",
       "    <tr>\n",
       "      <th>0</th>\n",
       "      <td>1631177627260</td>\n",
       "      <td>1.0</td>\n",
       "      <td>8161.0</td>\n",
       "      <td>0.0</td>\n",
       "      <td>8012.0</td>\n",
       "    </tr>\n",
       "    <tr>\n",
       "      <th>1</th>\n",
       "      <td>1631177627260</td>\n",
       "      <td>1.0</td>\n",
       "      <td>8162.0</td>\n",
       "      <td>0.0</td>\n",
       "      <td>8162.0</td>\n",
       "    </tr>\n",
       "    <tr>\n",
       "      <th>2</th>\n",
       "      <td>1631177627260</td>\n",
       "      <td>1.0</td>\n",
       "      <td>8161.0</td>\n",
       "      <td>0.0</td>\n",
       "      <td>8733.0</td>\n",
       "    </tr>\n",
       "    <tr>\n",
       "      <th>3</th>\n",
       "      <td>1631177627260</td>\n",
       "      <td>1.0</td>\n",
       "      <td>8162.0</td>\n",
       "      <td>0.0</td>\n",
       "      <td>8072.0</td>\n",
       "    </tr>\n",
       "    <tr>\n",
       "      <th>4</th>\n",
       "      <td>1631177627260</td>\n",
       "      <td>1.0</td>\n",
       "      <td>8161.0</td>\n",
       "      <td>0.0</td>\n",
       "      <td>8122.0</td>\n",
       "    </tr>\n",
       "  </tbody>\n",
       "</table>\n",
       "</div>"
      ],
      "text/plain": [
       "       timestamp  lineId  directionId  distanceFromPoint  pointId\n",
       "0  1631177627260     1.0       8161.0                0.0   8012.0\n",
       "1  1631177627260     1.0       8162.0                0.0   8162.0\n",
       "2  1631177627260     1.0       8161.0                0.0   8733.0\n",
       "3  1631177627260     1.0       8162.0                0.0   8072.0\n",
       "4  1631177627260     1.0       8161.0                0.0   8122.0"
      ]
     },
     "execution_count": 51,
     "metadata": {},
     "output_type": "execute_result"
    }
   ],
   "source": [
    "gps_track.head(5)"
   ]
  },
  {
   "cell_type": "code",
   "execution_count": 52,
   "metadata": {},
   "outputs": [],
   "source": [
    "gps_track['date'] = pd.to_datetime(gps_track['timestamp'], unit='ms').dt.strftime(\"%Y%m%d\").astype(int)"
   ]
  },
  {
   "cell_type": "code",
   "execution_count": 53,
   "metadata": {},
   "outputs": [],
   "source": [
    "gps_track['time'] = pd.to_datetime(gps_track['timestamp'], unit='ms').dt.strftime(\"%H:%M:%S\")"
   ]
  },
  {
   "cell_type": "code",
   "execution_count": 54,
   "metadata": {},
   "outputs": [],
   "source": [
    "weekdays = ['Monday','Tuesday','Wednesday', 'Thursday','Friday']\n",
    "gps_track['weekday'] = \\\n",
    "    pd.to_datetime(gps_track['timestamp'], unit='ms').dt.strftime(\"%A\") \\\n",
    "    .apply(lambda x: 0 if x in weekdays else 1 if x=='Saturday' else 2 if x=='Sunday' else -1)"
   ]
  },
  {
   "cell_type": "code",
   "execution_count": 56,
   "metadata": {},
   "outputs": [],
   "source": [
    "gps_track.to_csv('gps_track_processed.csv', index=False)"
   ]
  }
 ],
 "metadata": {
  "kernelspec": {
   "display_name": "Python 3.10.6 64-bit",
   "language": "python",
   "name": "python3"
  },
  "language_info": {
   "codemirror_mode": {
    "name": "ipython",
    "version": 3
   },
   "file_extension": ".py",
   "mimetype": "text/x-python",
   "name": "python",
   "nbconvert_exporter": "python",
   "pygments_lexer": "ipython3",
   "version": "3.10.6"
  },
  "orig_nbformat": 4,
  "vscode": {
   "interpreter": {
    "hash": "916dbcbb3f70747c44a77c7bcd40155683ae19c65e1c03b4aa3499c5328201f1"
   }
  }
 },
 "nbformat": 4,
 "nbformat_minor": 2
}
