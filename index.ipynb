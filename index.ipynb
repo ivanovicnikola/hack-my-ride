{
 "cells": [
  {
   "cell_type": "code",
   "execution_count": 7,
   "metadata": {},
   "outputs": [],
   "source": [
    "import os\n",
    "import pandas as pd\n",
    "from Scripts.json_to_csv import convert_to_csv"
   ]
  },
  {
   "cell_type": "markdown",
   "metadata": {},
   "source": [
    "### Reading GPS track data\n",
    "Read the 13 `vehiclePosition` json files and convert them to csv.\n",
    "\n",
    "\n",
    "__Assumption__: All the `json` and `csv` files should be inside `data` directory"
   ]
  },
  {
   "cell_type": "code",
   "execution_count": 18,
   "metadata": {},
   "outputs": [],
   "source": [
    "# Current directory path\n",
    "root = os.path.realpath(\".\")\n",
    "data_dir = os.path.join(root, 'data')\n",
    "# Get all the files in the root containing the word 'vehiclePosition'\n",
    "input_files = [os.path.join(data_dir, x) for x in os.listdir(data_dir) if 'vehiclePosition' in x]\n",
    "# For each input files generate the filename with csv extension\n",
    "output_files = [x.replace('.json', '.csv') for x in input_files]"
   ]
  },
  {
   "cell_type": "code",
   "execution_count": 21,
   "metadata": {},
   "outputs": [
    {
     "name": "stdout",
     "output_type": "stream",
     "text": [
      "Preprocessing  C:\\Users\\nikol\\Desktop\\hack-my-ride\\data\\vehiclePosition01.json\n",
      "C:\\Users\\nikol\\Desktop\\hack-my-ride\\data\\vehiclePosition01.csv generated success!\n"
     ]
    }
   ],
   "source": [
    "for i, file in enumerate(input_files):\n",
    "    convert_to_csv(file, output_files[i])"
   ]
  },
  {
   "cell_type": "markdown",
   "metadata": {},
   "source": [
    "### [Optional] Merge all the `csv` files into single file"
   ]
  },
  {
   "cell_type": "code",
   "execution_count": 22,
   "metadata": {},
   "outputs": [
    {
     "name": "stdout",
     "output_type": "stream",
     "text": [
      "Concatenating...\n"
     ]
    }
   ],
   "source": [
    "csvs = [pd.read_csv(f) for f in output_files]\n",
    "print('Concatenating...')\n",
    "df_data = pd.concat(csvs, ignore_index=True)\n",
    "gps_file = os.path.join(data_dir, 'gps_track.csv')\n",
    "df_data.to_csv(gps_file, index=False)"
   ]
  },
  {
   "cell_type": "code",
   "execution_count": null,
   "metadata": {},
   "outputs": [],
   "source": []
  }
 ],
 "metadata": {
  "kernelspec": {
   "display_name": "Python 3.10.4 64-bit",
   "language": "python",
   "name": "python3"
  },
  "language_info": {
   "codemirror_mode": {
    "name": "ipython",
    "version": 3
   },
   "file_extension": ".py",
   "mimetype": "text/x-python",
   "name": "python",
   "nbconvert_exporter": "python",
   "pygments_lexer": "ipython3",
   "version": "3.10.4"
  },
  "orig_nbformat": 4,
  "vscode": {
   "interpreter": {
    "hash": "369f2c481f4da34e4445cda3fffd2e751bd1c4d706f27375911949ba6bb62e1c"
   }
  }
 },
 "nbformat": 4,
 "nbformat_minor": 2
}
