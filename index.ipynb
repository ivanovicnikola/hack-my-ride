{
 "cells": [
  {
   "cell_type": "code",
   "execution_count": 15,
   "metadata": {},
   "outputs": [],
   "source": [
    "import os\n",
    "import pandas as pd\n",
    "from json_to_csv import convert_to_csv"
   ]
  },
  {
   "cell_type": "markdown",
   "metadata": {},
   "source": [
    "### Reading GPS track data\n",
    "Read the 13 `vehiclePosition` json files and convert them to csv.\n",
    "\n",
    "\n",
    "__Assumption__: All the `json` and `csv` files should be inside `data` directory"
   ]
  },
  {
   "cell_type": "code",
   "execution_count": 10,
   "metadata": {},
   "outputs": [],
   "source": [
    "# Current directory path\n",
    "root = os.path.realpath(\".\")\n",
    "data_dir = os.path.join(root, 'data')\n",
    "# Get all the files in the root containing the word 'vehiclePosition'\n",
    "input_files = [os.path.join(data_dir, x) for x in os.listdir('.') if 'vehiclePosition' in x]\n",
    "# For each input files generate the filename with csv extension\n",
    "output_files = [x.replace('.json', '.csv') for x in input_files]"
   ]
  },
  {
   "cell_type": "code",
   "execution_count": 12,
   "metadata": {},
   "outputs": [
    {
     "name": "stdout",
     "output_type": "stream",
     "text": [
      "Preprocessing  D:\\3_Education\\07_MS\\BDMA\\DataMining\\Project\\hack-my-ride\\vehiclePosition01.json\n",
      "Renaming columns\n",
      "Writing output\n",
      "D:\\3_Education\\07_MS\\BDMA\\DataMining\\Project\\hack-my-ride\\vehiclePosition01.csv generated success!\n",
      "Preprocessing  D:\\3_Education\\07_MS\\BDMA\\DataMining\\Project\\hack-my-ride\\vehiclePosition02.json\n",
      "Renaming columns\n",
      "Writing output\n",
      "D:\\3_Education\\07_MS\\BDMA\\DataMining\\Project\\hack-my-ride\\vehiclePosition02.csv generated success!\n",
      "Preprocessing  D:\\3_Education\\07_MS\\BDMA\\DataMining\\Project\\hack-my-ride\\vehiclePosition03.json\n",
      "Renaming columns\n",
      "Writing output\n",
      "D:\\3_Education\\07_MS\\BDMA\\DataMining\\Project\\hack-my-ride\\vehiclePosition03.csv generated success!\n",
      "Preprocessing  D:\\3_Education\\07_MS\\BDMA\\DataMining\\Project\\hack-my-ride\\vehiclePosition04.json\n",
      "Renaming columns\n",
      "Writing output\n",
      "D:\\3_Education\\07_MS\\BDMA\\DataMining\\Project\\hack-my-ride\\vehiclePosition04.csv generated success!\n",
      "Preprocessing  D:\\3_Education\\07_MS\\BDMA\\DataMining\\Project\\hack-my-ride\\vehiclePosition05.json\n",
      "Renaming columns\n",
      "Writing output\n",
      "D:\\3_Education\\07_MS\\BDMA\\DataMining\\Project\\hack-my-ride\\vehiclePosition05.csv generated success!\n",
      "Preprocessing  D:\\3_Education\\07_MS\\BDMA\\DataMining\\Project\\hack-my-ride\\vehiclePosition06.json\n",
      "Renaming columns\n",
      "Writing output\n",
      "D:\\3_Education\\07_MS\\BDMA\\DataMining\\Project\\hack-my-ride\\vehiclePosition06.csv generated success!\n",
      "Preprocessing  D:\\3_Education\\07_MS\\BDMA\\DataMining\\Project\\hack-my-ride\\vehiclePosition07.json\n",
      "Renaming columns\n",
      "Writing output\n",
      "D:\\3_Education\\07_MS\\BDMA\\DataMining\\Project\\hack-my-ride\\vehiclePosition07.csv generated success!\n",
      "Preprocessing  D:\\3_Education\\07_MS\\BDMA\\DataMining\\Project\\hack-my-ride\\vehiclePosition08.json\n",
      "Renaming columns\n",
      "Writing output\n",
      "D:\\3_Education\\07_MS\\BDMA\\DataMining\\Project\\hack-my-ride\\vehiclePosition08.csv generated success!\n",
      "Preprocessing  D:\\3_Education\\07_MS\\BDMA\\DataMining\\Project\\hack-my-ride\\vehiclePosition09.json\n",
      "Renaming columns\n",
      "Writing output\n",
      "D:\\3_Education\\07_MS\\BDMA\\DataMining\\Project\\hack-my-ride\\vehiclePosition09.csv generated success!\n",
      "Preprocessing  D:\\3_Education\\07_MS\\BDMA\\DataMining\\Project\\hack-my-ride\\vehiclePosition10.json\n",
      "Renaming columns\n",
      "Writing output\n",
      "D:\\3_Education\\07_MS\\BDMA\\DataMining\\Project\\hack-my-ride\\vehiclePosition10.csv generated success!\n",
      "Preprocessing  D:\\3_Education\\07_MS\\BDMA\\DataMining\\Project\\hack-my-ride\\vehiclePosition11.json\n",
      "Renaming columns\n",
      "Writing output\n",
      "D:\\3_Education\\07_MS\\BDMA\\DataMining\\Project\\hack-my-ride\\vehiclePosition11.csv generated success!\n",
      "Preprocessing  D:\\3_Education\\07_MS\\BDMA\\DataMining\\Project\\hack-my-ride\\vehiclePosition12.json\n",
      "Renaming columns\n",
      "Writing output\n",
      "D:\\3_Education\\07_MS\\BDMA\\DataMining\\Project\\hack-my-ride\\vehiclePosition12.csv generated success!\n",
      "Preprocessing  D:\\3_Education\\07_MS\\BDMA\\DataMining\\Project\\hack-my-ride\\vehiclePosition13.json\n",
      "Renaming columns\n",
      "Writing output\n",
      "D:\\3_Education\\07_MS\\BDMA\\DataMining\\Project\\hack-my-ride\\vehiclePosition13.csv generated success!\n"
     ]
    }
   ],
   "source": [
    "for i, file in enumerate(input_files):\n",
    "    convert_to_csv(file, output_files[i])"
   ]
  },
  {
   "cell_type": "markdown",
   "metadata": {},
   "source": [
    "### [Optional] Merge all the `csv` files into single file"
   ]
  },
  {
   "cell_type": "code",
   "execution_count": 18,
   "metadata": {},
   "outputs": [
    {
     "name": "stdout",
     "output_type": "stream",
     "text": [
      "Concatenating...\n"
     ]
    }
   ],
   "source": [
    "csvs = [pd.read_csv(f) for f in output_files]\n",
    "print('Concatenating...')\n",
    "df_data = pd.concat(csvs, ignore_index=True)\n",
    "gps_file = os.path.join(data_dir, 'gps_track.csv')\n",
    "df_data.to_csv(gps_file, index=False)"
   ]
  },
  {
   "cell_type": "code",
   "execution_count": null,
   "metadata": {},
   "outputs": [],
   "source": []
  }
 ],
 "metadata": {
  "kernelspec": {
   "display_name": "Python 3.9.13 64-bit (microsoft store)",
   "language": "python",
   "name": "python3"
  },
  "language_info": {
   "codemirror_mode": {
    "name": "ipython",
    "version": 3
   },
   "file_extension": ".py",
   "mimetype": "text/x-python",
   "name": "python",
   "nbconvert_exporter": "python",
   "pygments_lexer": "ipython3",
   "version": "3.9.13"
  },
  "orig_nbformat": 4,
  "vscode": {
   "interpreter": {
    "hash": "b2354ffde8744fc4e2c7e1e5bd0e161f6ebd713c53c42b2d267d61e9ad8c6e0b"
   }
  }
 },
 "nbformat": 4,
 "nbformat_minor": 2
}
